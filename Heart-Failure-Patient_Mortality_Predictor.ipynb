{
 "cells": [
  {
   "attachments": {},
   "cell_type": "markdown",
   "metadata": {},
   "source": [
    "# Heart-Failure-Patient Mortality Predictor"
   ]
  },
  {
   "cell_type": "markdown",
   "metadata": {},
   "source": [
    "## Description\n",
    "\n",
    "### Objective\n",
    "\n",
    "`Make a Classification Model using Random Forest and AdaBoost to predict DEATH_EVENT on patients.`\n",
    "\n",
    "### Problem Statement\n",
    "`1. What are columns that able to affect the DEATH EVENT significantly ?`\n",
    "<br>\n",
    "`2. What is the best model so far ?`\n",
    "<br>\n",
    "`3. How much data is wrongly predicted ?`\n",
    "<br>\n",
    "`4. How to improve the model prediction ?`"
   ]
  },
  {
   "cell_type": "markdown",
   "metadata": {},
   "source": [
    "## Working Area\n",
    "### 1. Import Libraries"
   ]
  },
  {
   "cell_type": "code",
   "execution_count": 145,
   "metadata": {},
   "outputs": [],
   "source": [
    "# Import libraries\n",
    "import pandas as pd\n",
    "import numpy as np\n",
    "import matplotlib.pyplot as plt\n",
    "import seaborn as sns\n",
    "\n",
    "# Data Splitting\n",
    "from sklearn.model_selection import train_test_split\n",
    "\n",
    "# Outliers handling\n",
    "from feature_engine.outliers import Winsorizer\n",
    "\n",
    "# Features selection\n",
    "from sklearn.feature_selection import SelectKBest\n",
    "from sklearn.feature_selection import f_classif\n",
    "from sklearn.feature_selection import chi2\n",
    "\n",
    "# Numerical features scaling\n",
    "from sklearn.preprocessing import MinMaxScaler\n",
    "from sklearn.preprocessing import StandardScaler\n",
    "\n",
    "# Import models\n",
    "from sklearn.ensemble import RandomForestClassifier\n",
    "from sklearn.ensemble import AdaBoostClassifier\n",
    "\n",
    "# Model evaluation\n",
    "from sklearn.metrics import classification_report, plot_confusion_matrix, roc_auc_score\n",
    "\n",
    "# Ignore the warning notes\n",
    "import warnings\n",
    "warnings.filterwarnings(\"ignore\")"
   ]
  },
  {
   "cell_type": "markdown",
   "metadata": {},
   "source": [
    "### 2. Data Loading\n",
    "Extracting dataset from ftds-hacktiv8-project, with dataset phase1_ftds_016_rmt and table name heart-failure using following command to obtain the dataset.\n",
    "<br>\n",
    "SELECT *\n",
    "<br>\n",
    "FROM `ftds-hacktiv8-project.phase1_ftds_016_rmt.heart-failure`\n",
    "<br>\n",
    "and save is as 'h8dsft_P1G3_rivaldo_jasper` with csv format."
   ]
  },
  {
   "cell_type": "code",
   "execution_count": 146,
   "metadata": {},
   "outputs": [
    {
     "data": {
      "text/html": [
       "<div>\n",
       "<style scoped>\n",
       "    .dataframe tbody tr th:only-of-type {\n",
       "        vertical-align: middle;\n",
       "    }\n",
       "\n",
       "    .dataframe tbody tr th {\n",
       "        vertical-align: top;\n",
       "    }\n",
       "\n",
       "    .dataframe thead th {\n",
       "        text-align: right;\n",
       "    }\n",
       "</style>\n",
       "<table border=\"1\" class=\"dataframe\">\n",
       "  <thead>\n",
       "    <tr style=\"text-align: right;\">\n",
       "      <th></th>\n",
       "      <th>age</th>\n",
       "      <th>anaemia</th>\n",
       "      <th>creatinine_phosphokinase</th>\n",
       "      <th>diabetes</th>\n",
       "      <th>ejection_fraction</th>\n",
       "      <th>high_blood_pressure</th>\n",
       "      <th>platelets</th>\n",
       "      <th>serum_creatinine</th>\n",
       "      <th>serum_sodium</th>\n",
       "      <th>sex</th>\n",
       "      <th>smoking</th>\n",
       "      <th>time</th>\n",
       "      <th>DEATH_EVENT</th>\n",
       "    </tr>\n",
       "  </thead>\n",
       "  <tbody>\n",
       "    <tr>\n",
       "      <th>0</th>\n",
       "      <td>42.0</td>\n",
       "      <td>1</td>\n",
       "      <td>250</td>\n",
       "      <td>1</td>\n",
       "      <td>15</td>\n",
       "      <td>0</td>\n",
       "      <td>213000.0</td>\n",
       "      <td>1.3</td>\n",
       "      <td>136</td>\n",
       "      <td>0</td>\n",
       "      <td>0</td>\n",
       "      <td>65</td>\n",
       "      <td>1</td>\n",
       "    </tr>\n",
       "    <tr>\n",
       "      <th>1</th>\n",
       "      <td>46.0</td>\n",
       "      <td>0</td>\n",
       "      <td>168</td>\n",
       "      <td>1</td>\n",
       "      <td>17</td>\n",
       "      <td>1</td>\n",
       "      <td>271000.0</td>\n",
       "      <td>2.1</td>\n",
       "      <td>124</td>\n",
       "      <td>0</td>\n",
       "      <td>0</td>\n",
       "      <td>100</td>\n",
       "      <td>1</td>\n",
       "    </tr>\n",
       "    <tr>\n",
       "      <th>2</th>\n",
       "      <td>65.0</td>\n",
       "      <td>1</td>\n",
       "      <td>160</td>\n",
       "      <td>1</td>\n",
       "      <td>20</td>\n",
       "      <td>0</td>\n",
       "      <td>327000.0</td>\n",
       "      <td>2.7</td>\n",
       "      <td>116</td>\n",
       "      <td>0</td>\n",
       "      <td>0</td>\n",
       "      <td>8</td>\n",
       "      <td>1</td>\n",
       "    </tr>\n",
       "    <tr>\n",
       "      <th>3</th>\n",
       "      <td>53.0</td>\n",
       "      <td>1</td>\n",
       "      <td>91</td>\n",
       "      <td>0</td>\n",
       "      <td>20</td>\n",
       "      <td>1</td>\n",
       "      <td>418000.0</td>\n",
       "      <td>1.4</td>\n",
       "      <td>139</td>\n",
       "      <td>0</td>\n",
       "      <td>0</td>\n",
       "      <td>43</td>\n",
       "      <td>1</td>\n",
       "    </tr>\n",
       "    <tr>\n",
       "      <th>4</th>\n",
       "      <td>50.0</td>\n",
       "      <td>1</td>\n",
       "      <td>582</td>\n",
       "      <td>1</td>\n",
       "      <td>20</td>\n",
       "      <td>1</td>\n",
       "      <td>279000.0</td>\n",
       "      <td>1.0</td>\n",
       "      <td>134</td>\n",
       "      <td>0</td>\n",
       "      <td>0</td>\n",
       "      <td>186</td>\n",
       "      <td>0</td>\n",
       "    </tr>\n",
       "  </tbody>\n",
       "</table>\n",
       "</div>"
      ],
      "text/plain": [
       "    age  anaemia  creatinine_phosphokinase  diabetes  ejection_fraction  \\\n",
       "0  42.0        1                       250         1                 15   \n",
       "1  46.0        0                       168         1                 17   \n",
       "2  65.0        1                       160         1                 20   \n",
       "3  53.0        1                        91         0                 20   \n",
       "4  50.0        1                       582         1                 20   \n",
       "\n",
       "   high_blood_pressure  platelets  serum_creatinine  serum_sodium  sex  \\\n",
       "0                    0   213000.0               1.3           136    0   \n",
       "1                    1   271000.0               2.1           124    0   \n",
       "2                    0   327000.0               2.7           116    0   \n",
       "3                    1   418000.0               1.4           139    0   \n",
       "4                    1   279000.0               1.0           134    0   \n",
       "\n",
       "   smoking  time  DEATH_EVENT  \n",
       "0        0    65            1  \n",
       "1        0   100            1  \n",
       "2        0     8            1  \n",
       "3        0    43            1  \n",
       "4        0   186            0  "
      ]
     },
     "execution_count": 146,
     "metadata": {},
     "output_type": "execute_result"
    }
   ],
   "source": [
    "# Import csv file to dataframe\n",
    "df = pd.read_csv('h8dsft_P1G3_rivaldo_jasper.csv')\n",
    "\n",
    "# Show dataframe head\n",
    "df.head()"
   ]
  },
  {
   "cell_type": "code",
   "execution_count": 147,
   "metadata": {},
   "outputs": [
    {
     "data": {
      "text/html": [
       "<div>\n",
       "<style scoped>\n",
       "    .dataframe tbody tr th:only-of-type {\n",
       "        vertical-align: middle;\n",
       "    }\n",
       "\n",
       "    .dataframe tbody tr th {\n",
       "        vertical-align: top;\n",
       "    }\n",
       "\n",
       "    .dataframe thead th {\n",
       "        text-align: right;\n",
       "    }\n",
       "</style>\n",
       "<table border=\"1\" class=\"dataframe\">\n",
       "  <thead>\n",
       "    <tr style=\"text-align: right;\">\n",
       "      <th></th>\n",
       "      <th>age</th>\n",
       "      <th>anaemia</th>\n",
       "      <th>creatinine_phosphokinase</th>\n",
       "      <th>diabetes</th>\n",
       "      <th>ejection_fraction</th>\n",
       "      <th>high_blood_pressure</th>\n",
       "      <th>platelets</th>\n",
       "      <th>serum_creatinine</th>\n",
       "      <th>serum_sodium</th>\n",
       "      <th>sex</th>\n",
       "      <th>smoking</th>\n",
       "      <th>time</th>\n",
       "      <th>DEATH_EVENT</th>\n",
       "    </tr>\n",
       "  </thead>\n",
       "  <tbody>\n",
       "    <tr>\n",
       "      <th>294</th>\n",
       "      <td>63.0</td>\n",
       "      <td>1</td>\n",
       "      <td>122</td>\n",
       "      <td>1</td>\n",
       "      <td>60</td>\n",
       "      <td>0</td>\n",
       "      <td>267000.00</td>\n",
       "      <td>1.2</td>\n",
       "      <td>145</td>\n",
       "      <td>1</td>\n",
       "      <td>0</td>\n",
       "      <td>147</td>\n",
       "      <td>0</td>\n",
       "    </tr>\n",
       "    <tr>\n",
       "      <th>295</th>\n",
       "      <td>45.0</td>\n",
       "      <td>0</td>\n",
       "      <td>308</td>\n",
       "      <td>1</td>\n",
       "      <td>60</td>\n",
       "      <td>1</td>\n",
       "      <td>377000.00</td>\n",
       "      <td>1.0</td>\n",
       "      <td>136</td>\n",
       "      <td>1</td>\n",
       "      <td>0</td>\n",
       "      <td>186</td>\n",
       "      <td>0</td>\n",
       "    </tr>\n",
       "    <tr>\n",
       "      <th>296</th>\n",
       "      <td>70.0</td>\n",
       "      <td>0</td>\n",
       "      <td>97</td>\n",
       "      <td>0</td>\n",
       "      <td>60</td>\n",
       "      <td>1</td>\n",
       "      <td>220000.00</td>\n",
       "      <td>0.9</td>\n",
       "      <td>138</td>\n",
       "      <td>1</td>\n",
       "      <td>0</td>\n",
       "      <td>186</td>\n",
       "      <td>0</td>\n",
       "    </tr>\n",
       "    <tr>\n",
       "      <th>297</th>\n",
       "      <td>53.0</td>\n",
       "      <td>1</td>\n",
       "      <td>446</td>\n",
       "      <td>0</td>\n",
       "      <td>60</td>\n",
       "      <td>1</td>\n",
       "      <td>263358.03</td>\n",
       "      <td>1.0</td>\n",
       "      <td>139</td>\n",
       "      <td>1</td>\n",
       "      <td>0</td>\n",
       "      <td>215</td>\n",
       "      <td>0</td>\n",
       "    </tr>\n",
       "    <tr>\n",
       "      <th>298</th>\n",
       "      <td>50.0</td>\n",
       "      <td>0</td>\n",
       "      <td>582</td>\n",
       "      <td>0</td>\n",
       "      <td>62</td>\n",
       "      <td>1</td>\n",
       "      <td>147000.00</td>\n",
       "      <td>0.8</td>\n",
       "      <td>140</td>\n",
       "      <td>1</td>\n",
       "      <td>1</td>\n",
       "      <td>192</td>\n",
       "      <td>0</td>\n",
       "    </tr>\n",
       "  </tbody>\n",
       "</table>\n",
       "</div>"
      ],
      "text/plain": [
       "      age  anaemia  creatinine_phosphokinase  diabetes  ejection_fraction  \\\n",
       "294  63.0        1                       122         1                 60   \n",
       "295  45.0        0                       308         1                 60   \n",
       "296  70.0        0                        97         0                 60   \n",
       "297  53.0        1                       446         0                 60   \n",
       "298  50.0        0                       582         0                 62   \n",
       "\n",
       "     high_blood_pressure  platelets  serum_creatinine  serum_sodium  sex  \\\n",
       "294                    0  267000.00               1.2           145    1   \n",
       "295                    1  377000.00               1.0           136    1   \n",
       "296                    1  220000.00               0.9           138    1   \n",
       "297                    1  263358.03               1.0           139    1   \n",
       "298                    1  147000.00               0.8           140    1   \n",
       "\n",
       "     smoking  time  DEATH_EVENT  \n",
       "294        0   147            0  \n",
       "295        0   186            0  \n",
       "296        0   186            0  \n",
       "297        0   215            0  \n",
       "298        1   192            0  "
      ]
     },
     "execution_count": 147,
     "metadata": {},
     "output_type": "execute_result"
    }
   ],
   "source": [
    "# Show dataframe tail\n",
    "df.tail()"
   ]
  },
  {
   "cell_type": "markdown",
   "metadata": {},
   "source": [
    "Description<br>\n",
    "age : age in years<br>\n",
    "anaemia : 0 = no, 1 = yes<br>\n",
    "creatinine_phosphokinase : Level of the CPK enzyme in the blood (mcg/L)<br>\n",
    "diabetes : 0 = no, 1 = yes<br>\n",
    "ejection_fraction : Percentage of blood leaving the heart at each contraction<br>\n",
    "high_blood_pressure : 0 = no, 1 =yes<br>\n",
    "platelets : Platelets in the blood (kiloplatelets/mL)<br>\n",
    "serum_creatinine : Level of serum sodium in the blood (mEq/L)<br>\n",
    "sex : 0 = woman, 1 = man<br>\n",
    "smoking : 0 = no, 1 = yes<br>\n",
    "time : follow-up period (days)<br>\n",
    "DEATH_EVENT : If the patient deceased during the follow-up period, 0 = no & 1 = yes<br>\n",
    "<br>\n",
    "Features<br>\n",
    "Categorical : anaemia, diabetes, high_blood_pressure, sex, smoking<br>\n",
    "Numerical : age, creatinine_phosphokinase, ejection_fraction, platelets, serum_creatinine, time<br>\n",
    "<br>\n",
    "Target : DEATH_EVENT"
   ]
  },
  {
   "cell_type": "code",
   "execution_count": 148,
   "metadata": {},
   "outputs": [],
   "source": [
    "# Create list for each column type\n",
    "num_raw = ['age' , 'creatinine_phosphokinase' , 'ejection_fraction' , 'platelets' , 'serum_creatinine' , 'time']\n",
    "cat_raw = ['anaemia' , 'diabetes' , 'high_blood_pressure' , 'sex' , 'smoking']"
   ]
  },
  {
   "cell_type": "markdown",
   "metadata": {},
   "source": [
    "### 3. Exploratory Data Analysis (EDA)"
   ]
  },
  {
   "cell_type": "code",
   "execution_count": 149,
   "metadata": {},
   "outputs": [
    {
     "name": "stdout",
     "output_type": "stream",
     "text": [
      "<class 'pandas.core.frame.DataFrame'>\n",
      "RangeIndex: 299 entries, 0 to 298\n",
      "Data columns (total 13 columns):\n",
      " #   Column                    Non-Null Count  Dtype  \n",
      "---  ------                    --------------  -----  \n",
      " 0   age                       299 non-null    float64\n",
      " 1   anaemia                   299 non-null    int64  \n",
      " 2   creatinine_phosphokinase  299 non-null    int64  \n",
      " 3   diabetes                  299 non-null    int64  \n",
      " 4   ejection_fraction         299 non-null    int64  \n",
      " 5   high_blood_pressure       299 non-null    int64  \n",
      " 6   platelets                 299 non-null    float64\n",
      " 7   serum_creatinine          299 non-null    float64\n",
      " 8   serum_sodium              299 non-null    int64  \n",
      " 9   sex                       299 non-null    int64  \n",
      " 10  smoking                   299 non-null    int64  \n",
      " 11  time                      299 non-null    int64  \n",
      " 12  DEATH_EVENT               299 non-null    int64  \n",
      "dtypes: float64(3), int64(10)\n",
      "memory usage: 30.5 KB\n"
     ]
    }
   ],
   "source": [
    "# Check the column type and null values\n",
    "df.info()"
   ]
  },
  {
   "cell_type": "markdown",
   "metadata": {},
   "source": [
    "Statement :\n",
    "<br>\n",
    "All encoded categorical columns are already in the correct column type, so do the numerical columns even though age in years is not common using float as type."
   ]
  },
  {
   "cell_type": "code",
   "execution_count": 150,
   "metadata": {},
   "outputs": [
    {
     "data": {
      "text/html": [
       "<div>\n",
       "<style scoped>\n",
       "    .dataframe tbody tr th:only-of-type {\n",
       "        vertical-align: middle;\n",
       "    }\n",
       "\n",
       "    .dataframe tbody tr th {\n",
       "        vertical-align: top;\n",
       "    }\n",
       "\n",
       "    .dataframe thead th {\n",
       "        text-align: right;\n",
       "    }\n",
       "</style>\n",
       "<table border=\"1\" class=\"dataframe\">\n",
       "  <thead>\n",
       "    <tr style=\"text-align: right;\">\n",
       "      <th></th>\n",
       "      <th>age</th>\n",
       "      <th>creatinine_phosphokinase</th>\n",
       "      <th>ejection_fraction</th>\n",
       "      <th>platelets</th>\n",
       "      <th>serum_creatinine</th>\n",
       "      <th>time</th>\n",
       "    </tr>\n",
       "  </thead>\n",
       "  <tbody>\n",
       "    <tr>\n",
       "      <th>count</th>\n",
       "      <td>299.000000</td>\n",
       "      <td>299.000000</td>\n",
       "      <td>299.000000</td>\n",
       "      <td>299.000000</td>\n",
       "      <td>299.00000</td>\n",
       "      <td>299.000000</td>\n",
       "    </tr>\n",
       "    <tr>\n",
       "      <th>mean</th>\n",
       "      <td>60.833893</td>\n",
       "      <td>581.839465</td>\n",
       "      <td>38.083612</td>\n",
       "      <td>263358.029264</td>\n",
       "      <td>1.39388</td>\n",
       "      <td>130.260870</td>\n",
       "    </tr>\n",
       "    <tr>\n",
       "      <th>std</th>\n",
       "      <td>11.894809</td>\n",
       "      <td>970.287881</td>\n",
       "      <td>11.834841</td>\n",
       "      <td>97804.236869</td>\n",
       "      <td>1.03451</td>\n",
       "      <td>77.614208</td>\n",
       "    </tr>\n",
       "    <tr>\n",
       "      <th>min</th>\n",
       "      <td>40.000000</td>\n",
       "      <td>23.000000</td>\n",
       "      <td>14.000000</td>\n",
       "      <td>25100.000000</td>\n",
       "      <td>0.50000</td>\n",
       "      <td>4.000000</td>\n",
       "    </tr>\n",
       "    <tr>\n",
       "      <th>25%</th>\n",
       "      <td>51.000000</td>\n",
       "      <td>116.500000</td>\n",
       "      <td>30.000000</td>\n",
       "      <td>212500.000000</td>\n",
       "      <td>0.90000</td>\n",
       "      <td>73.000000</td>\n",
       "    </tr>\n",
       "    <tr>\n",
       "      <th>50%</th>\n",
       "      <td>60.000000</td>\n",
       "      <td>250.000000</td>\n",
       "      <td>38.000000</td>\n",
       "      <td>262000.000000</td>\n",
       "      <td>1.10000</td>\n",
       "      <td>115.000000</td>\n",
       "    </tr>\n",
       "    <tr>\n",
       "      <th>75%</th>\n",
       "      <td>70.000000</td>\n",
       "      <td>582.000000</td>\n",
       "      <td>45.000000</td>\n",
       "      <td>303500.000000</td>\n",
       "      <td>1.40000</td>\n",
       "      <td>203.000000</td>\n",
       "    </tr>\n",
       "    <tr>\n",
       "      <th>max</th>\n",
       "      <td>95.000000</td>\n",
       "      <td>7861.000000</td>\n",
       "      <td>80.000000</td>\n",
       "      <td>850000.000000</td>\n",
       "      <td>9.40000</td>\n",
       "      <td>285.000000</td>\n",
       "    </tr>\n",
       "  </tbody>\n",
       "</table>\n",
       "</div>"
      ],
      "text/plain": [
       "              age  creatinine_phosphokinase  ejection_fraction      platelets  \\\n",
       "count  299.000000                299.000000         299.000000     299.000000   \n",
       "mean    60.833893                581.839465          38.083612  263358.029264   \n",
       "std     11.894809                970.287881          11.834841   97804.236869   \n",
       "min     40.000000                 23.000000          14.000000   25100.000000   \n",
       "25%     51.000000                116.500000          30.000000  212500.000000   \n",
       "50%     60.000000                250.000000          38.000000  262000.000000   \n",
       "75%     70.000000                582.000000          45.000000  303500.000000   \n",
       "max     95.000000               7861.000000          80.000000  850000.000000   \n",
       "\n",
       "       serum_creatinine        time  \n",
       "count         299.00000  299.000000  \n",
       "mean            1.39388  130.260870  \n",
       "std             1.03451   77.614208  \n",
       "min             0.50000    4.000000  \n",
       "25%             0.90000   73.000000  \n",
       "50%             1.10000  115.000000  \n",
       "75%             1.40000  203.000000  \n",
       "max             9.40000  285.000000  "
      ]
     },
     "execution_count": 150,
     "metadata": {},
     "output_type": "execute_result"
    }
   ],
   "source": [
    "# Check numerical columns statistical parameters\n",
    "df[num_raw].describe()"
   ]
  },
  {
   "cell_type": "markdown",
   "metadata": {},
   "source": [
    "Statement :<br>\n",
    "1. creatinine phosphokinase (CPK) in data set show a very high number of level compared to normal level in human body.<br>\n",
    "Source : https://www.mountsinai.org/health-library/tests/creatine-phosphokinase-test#:~:text=Total%20CPK%20normal%20values%3A,per%20liter%20(mcg%2FL)\n",
    "2. ejection fraction in normal people is between 50 to 75%, therefore the data showed irregularities since then mean with + or - standard deviation ( you can roughly say majority of the data ) still showing a number less than the regular one.<br>\n",
    "Source : https://www.mayoclinic.org/tests-procedures/ekg/expert-answers/ejection-fraction/faq-20058286#:~:text=A%20normal%20ejection%20fraction%20is,to%20the%20American%20Heart%20Association.<br>\n",
    "3. platelets in dataset up to Q3 showed no irregularities compare to normal human's platelets.<br>\n",
    "Source : https://www.ncbi.nlm.nih.gov/pmc/articles/PMC3012758/<br>\n",
    "4. serum creatinine level couldn't be reviewed due to the unit used in dataset is uncommon."
   ]
  },
  {
   "cell_type": "code",
   "execution_count": 151,
   "metadata": {},
   "outputs": [
    {
     "data": {
      "text/plain": [
       "age                         0.423062\n",
       "creatinine_phosphokinase    4.463110\n",
       "ejection_fraction           0.555383\n",
       "platelets                   1.462321\n",
       "serum_creatinine            4.455996\n",
       "time                        0.127803\n",
       "dtype: float64"
      ]
     },
     "execution_count": 151,
     "metadata": {},
     "output_type": "execute_result"
    }
   ],
   "source": [
    "df[num_raw].skew()"
   ]
  },
  {
   "cell_type": "markdown",
   "metadata": {},
   "source": [
    "Statement :<br>\n",
    "Only age and time columns are normal distribution, while the rest are skewed distribution based on skewness values that over than 0.5."
   ]
  },
  {
   "cell_type": "code",
   "execution_count": 152,
   "metadata": {},
   "outputs": [
    {
     "name": "stdout",
     "output_type": "stream",
     "text": [
      "anaemia [1 0]\n",
      "diabetes [1 0]\n",
      "high_blood_pressure [0 1]\n",
      "sex [0 1]\n",
      "smoking [0 1]\n"
     ]
    }
   ],
   "source": [
    "# Check every categorical column value to ensure all encoded values match with description\n",
    "for (colname,colval) in df[cat_raw].iteritems():\n",
    "    print(colname, colval.unique())"
   ]
  },
  {
   "cell_type": "code",
   "execution_count": 153,
   "metadata": {},
   "outputs": [
    {
     "data": {
      "text/plain": [
       "array([1, 0], dtype=int64)"
      ]
     },
     "execution_count": 153,
     "metadata": {},
     "output_type": "execute_result"
    }
   ],
   "source": [
    "# Check target column value to ensure encoded values match with description\n",
    "df['DEATH_EVENT'].unique()"
   ]
  },
  {
   "cell_type": "markdown",
   "metadata": {},
   "source": [
    "Statement :<br>\n",
    "No abnormal value were found."
   ]
  },
  {
   "cell_type": "code",
   "execution_count": 154,
   "metadata": {},
   "outputs": [
    {
     "data": {
      "image/png": "[encoded data removed]",
      "text/plain": [
       "<Figure size 432x288 with 1 Axes>"
      ]
     },
     "metadata": {},
     "output_type": "display_data"
    }
   ],
   "source": [
    "# Check target composition\n",
    "palette_color = sns.color_palette('bright') # Define color palette\n",
    "\n",
    "# DEATH_EVENT column composition\n",
    "data = ['Dead','Alive']\n",
    "freq = [df.DEATH_EVENT[df['DEATH_EVENT'] == 1].value_counts().sum() , df.DEATH_EVENT[df['DEATH_EVENT'] == 0].value_counts().sum()]\n",
    "plt.pie(freq, labels=data, colors=palette_color, autopct='%.0f%%')\n",
    "plt.show()"
   ]
  },
  {
   "cell_type": "markdown",
   "metadata": {},
   "source": [
    "Statement :<br>\n",
    "Number of people who die from heart attacks is less than the number of people who don't. Even so, there is no data imbalance in target column."
   ]
  },
  {
   "cell_type": "code",
   "execution_count": 155,
   "metadata": {},
   "outputs": [
    {
     "data": {
      "image/png": "[encoded data removed]",
      "text/plain": [
       "<Figure size 864x360 with 1 Axes>"
      ]
     },
     "metadata": {
      "needs_background": "light"
     },
     "output_type": "display_data"
    }
   ],
   "source": [
    "# Check the age composition compared to death event with sex as mediator\n",
    "\n",
    "# Histogram\n",
    "df_woman = df[df['sex'] == 0]\n",
    "df_man = df[df['sex'] == 1]\n",
    "fig = plt.figure(figsize = (12, 5))\n",
    "plt.hist(df_woman[df_woman['DEATH_EVENT'] == 1].age, bins = 50, alpha = 0.40, color = 'red')\n",
    "plt.hist(df_man[df_man['DEATH_EVENT'] == 1].age, bins = 50, alpha = 0.40, color = 'blue')\n",
    "plt.legend(['Woman','Man'])\n",
    "plt.show()"
   ]
  },
  {
   "cell_type": "code",
   "execution_count": 156,
   "metadata": {},
   "outputs": [
    {
     "data": {
      "text/plain": [
       "Text(0.5, 1.0, 'Man')"
      ]
     },
     "execution_count": 156,
     "metadata": {},
     "output_type": "execute_result"
    },
    {
     "data": {
      "image/png": "[encoded data removed]",
      "text/plain": [
       "<Figure size 432x288 with 2 Axes>"
      ]
     },
     "metadata": {
      "needs_background": "light"
     },
     "output_type": "display_data"
    }
   ],
   "source": [
    "# Boxplot\n",
    "fig, axs = plt.subplots(1, 2)\n",
    "axs[0].boxplot(df_woman[df_woman['DEATH_EVENT'] == 1].age)\n",
    "axs[0].set_title('Woman')\n",
    "axs[1].boxplot(df_man[df_man['DEATH_EVENT'] == 1].age)\n",
    "axs[1].set_title('Man')"
   ]
  },
  {
   "cell_type": "markdown",
   "metadata": {},
   "source": [
    "Statement :<br>\n",
    "Women have a tendency to die from heart attacks at a younger age than men.<br>\n",
    "The histogram shows that under the age of 60, women have a higher number of deaths from heart attacks. While over 60 years of age shows the opposite, as well as boxplot."
   ]
  },
  {
   "cell_type": "code",
   "execution_count": 157,
   "metadata": {},
   "outputs": [
    {
     "data": {
      "text/plain": [
       "<matplotlib.lines.Line2D at 0x1b4886e55e0>"
      ]
     },
     "execution_count": 157,
     "metadata": {},
     "output_type": "execute_result"
    },
    {
     "data": {
      "image/png": "[encoded data removed]",
      "text/plain": [
       "<Figure size 864x360 with 1 Axes>"
      ]
     },
     "metadata": {
      "needs_background": "light"
     },
     "output_type": "display_data"
    }
   ],
   "source": [
    "# Plot ejection fraction\n",
    "fig = plt.figure(figsize = (12, 5))\n",
    "plt.hist(df['ejection_fraction'], bins = 12, color='c', edgecolor='k')\n",
    "plt.axvline(50, color='red', linestyle='dashed', linewidth=1)\n",
    "plt.axvline(75, color='red', linestyle='dashed', linewidth=1)"
   ]
  },
  {
   "cell_type": "markdown",
   "metadata": {},
   "source": [
    "Statement :<br>\n",
    "With red dashed line showing the normal range of ejection fraction level in healthy people, most of the people who have had a heart attack show that most of them have their ejection fraction far below than the normal range threshold."
   ]
  },
  {
   "cell_type": "code",
   "execution_count": 158,
   "metadata": {},
   "outputs": [
    {
     "data": {
      "text/plain": [
       "<matplotlib.lines.Line2D at 0x1b48876f520>"
      ]
     },
     "execution_count": 158,
     "metadata": {},
     "output_type": "execute_result"
    },
    {
     "data": {
      "image/png": "[encoded data removed]",
      "text/plain": [
       "<Figure size 864x360 with 1 Axes>"
      ]
     },
     "metadata": {
      "needs_background": "light"
     },
     "output_type": "display_data"
    }
   ],
   "source": [
    "# Plot platelets\n",
    "fig = plt.figure(figsize = (12, 5))\n",
    "plt.hist(df['platelets'], bins = 12, color='maroon', edgecolor='k')\n",
    "plt.axvline(150000, color='k', linestyle='dashed', linewidth=1)\n",
    "plt.axvline(400000, color='k', linestyle='dashed', linewidth=1)"
   ]
  },
  {
   "cell_type": "markdown",
   "metadata": {},
   "source": [
    "Statement :<br>\n",
    "Same as before, where dashed line showing the normal range of platelets in healthy people. Most of the people who have had a heart attack show that most of them have their platelets number in a good range same as healthy people."
   ]
  },
  {
   "cell_type": "markdown",
   "metadata": {},
   "source": [
    "### 4. Data Preprocessing"
   ]
  },
  {
   "cell_type": "code",
   "execution_count": 159,
   "metadata": {},
   "outputs": [],
   "source": [
    "# Split train test set with Inference Model\n",
    "data_inf = df.sample(10, random_state = 1)\n",
    "\n",
    "# Remove Inference Model from dataset\n",
    "data_train_test = df.drop(data_inf.index)\n",
    "\n",
    "# Reset index for both dataset\n",
    "data_train_test.reset_index(drop = True , inplace = True)\n",
    "data_inf.reset_index(drop = True , inplace = True)"
   ]
  },
  {
   "cell_type": "code",
   "execution_count": 160,
   "metadata": {},
   "outputs": [],
   "source": [
    "# Split data features and target\n",
    "X = data_train_test.drop('DEATH_EVENT', axis = 1)\n",
    "y = pd.DataFrame(data_train_test['DEATH_EVENT'])\n",
    "\n",
    "# Split data train dan test set\n",
    "X_train, X_test, y_train, y_test = train_test_split(X, y, test_size = 0.20, random_state = 1) # 20% data will be used as test set"
   ]
  },
  {
   "cell_type": "code",
   "execution_count": 161,
   "metadata": {},
   "outputs": [],
   "source": [
    "# Check all numerical data outliers\n",
    "\n",
    "# Define a function for Skewed distribution outliers lower and upper limit\n",
    "def Skew_LLUL(df, variable, multiplier = 1.5):\n",
    "    Q1 = df[variable].quantile(0.25)\n",
    "    Q3 = df[variable].quantile(0.75)\n",
    "    IQR = Q3 - Q1\n",
    "    LL = Q1 - multiplier * IQR\n",
    "    UL = Q3 + multiplier * IQR\n",
    "    return LL, UL\n",
    "\n",
    "# Define a function for Normal distribution outliers lower and upper limit\n",
    "def Nor_LLUL(df, variable):\n",
    "    LL = df[variable].mean() - 3 * df[variable].std() # Lower Limit\n",
    "    UL = df[variable].mean() + 3 * df[variable].std() # Upper Limit\n",
    "    return LL, UL\n",
    "\n",
    "# Show outliers dataframe\n",
    "def Show_LLUL(df, variable, LL, UL):\n",
    "    out_only = df[(df[variable] > UL) | (df[variable] < LL)]\n",
    "    print(len(out_only) / len(df) * 100, '% of overall data is considered as outliers')\n",
    "    return out_only"
   ]
  },
  {
   "cell_type": "code",
   "execution_count": 162,
   "metadata": {},
   "outputs": [],
   "source": [
    "# Calculate lower and upper limits for every numerical columns\n",
    "\n",
    "# Normal distribution columns\n",
    "age_LL, age_UL = Nor_LLUL(X_train, 'age')\n",
    "time_LL, time_UL = Nor_LLUL(X_train, 'time')\n",
    "\n",
    "# Extreme Skewed distribution columns\n",
    "creatinine_phosphokinase_LL, creatinine_phosphokinase_UL = Skew_LLUL(X_train, 'creatinine_phosphokinase', 3)\n",
    "serum_creatinine_LL, serum_creatinine_UL = Skew_LLUL(X_train, 'serum_creatinine', 3)\n",
    "\n",
    "# Skewed distribution columns\n",
    "ejection_fraction_LL, ejection_fraction_UL = Skew_LLUL(X_train, 'ejection_fraction')\n",
    "platelets_LL, platelets_UL = Skew_LLUL(X_train, 'platelets')"
   ]
  },
  {
   "cell_type": "code",
   "execution_count": 163,
   "metadata": {},
   "outputs": [
    {
     "name": "stdout",
     "output_type": "stream",
     "text": [
      "0.0 % of overall data is considered as outliers\n"
     ]
    },
    {
     "data": {
      "text/html": [
       "<div>\n",
       "<style scoped>\n",
       "    .dataframe tbody tr th:only-of-type {\n",
       "        vertical-align: middle;\n",
       "    }\n",
       "\n",
       "    .dataframe tbody tr th {\n",
       "        vertical-align: top;\n",
       "    }\n",
       "\n",
       "    .dataframe thead th {\n",
       "        text-align: right;\n",
       "    }\n",
       "</style>\n",
       "<table border=\"1\" class=\"dataframe\">\n",
       "  <thead>\n",
       "    <tr style=\"text-align: right;\">\n",
       "      <th></th>\n",
       "      <th>age</th>\n",
       "      <th>anaemia</th>\n",
       "      <th>creatinine_phosphokinase</th>\n",
       "      <th>diabetes</th>\n",
       "      <th>ejection_fraction</th>\n",
       "      <th>high_blood_pressure</th>\n",
       "      <th>platelets</th>\n",
       "      <th>serum_creatinine</th>\n",
       "      <th>serum_sodium</th>\n",
       "      <th>sex</th>\n",
       "      <th>smoking</th>\n",
       "      <th>time</th>\n",
       "    </tr>\n",
       "  </thead>\n",
       "  <tbody>\n",
       "  </tbody>\n",
       "</table>\n",
       "</div>"
      ],
      "text/plain": [
       "Empty DataFrame\n",
       "Columns: [age, anaemia, creatinine_phosphokinase, diabetes, ejection_fraction, high_blood_pressure, platelets, serum_creatinine, serum_sodium, sex, smoking, time]\n",
       "Index: []"
      ]
     },
     "execution_count": 163,
     "metadata": {},
     "output_type": "execute_result"
    }
   ],
   "source": [
    "# Showing age column outliers\n",
    "Show_LLUL(X_train, 'age', age_LL, age_UL)"
   ]
  },
  {
   "cell_type": "markdown",
   "metadata": {},
   "source": [
    "Statement :<br>\n",
    "No outliers need to be handled."
   ]
  },
  {
   "cell_type": "code",
   "execution_count": 164,
   "metadata": {},
   "outputs": [
    {
     "name": "stdout",
     "output_type": "stream",
     "text": [
      "0.0 % of overall data is considered as outliers\n"
     ]
    },
    {
     "data": {
      "text/html": [
       "<div>\n",
       "<style scoped>\n",
       "    .dataframe tbody tr th:only-of-type {\n",
       "        vertical-align: middle;\n",
       "    }\n",
       "\n",
       "    .dataframe tbody tr th {\n",
       "        vertical-align: top;\n",
       "    }\n",
       "\n",
       "    .dataframe thead th {\n",
       "        text-align: right;\n",
       "    }\n",
       "</style>\n",
       "<table border=\"1\" class=\"dataframe\">\n",
       "  <thead>\n",
       "    <tr style=\"text-align: right;\">\n",
       "      <th></th>\n",
       "      <th>age</th>\n",
       "      <th>anaemia</th>\n",
       "      <th>creatinine_phosphokinase</th>\n",
       "      <th>diabetes</th>\n",
       "      <th>ejection_fraction</th>\n",
       "      <th>high_blood_pressure</th>\n",
       "      <th>platelets</th>\n",
       "      <th>serum_creatinine</th>\n",
       "      <th>serum_sodium</th>\n",
       "      <th>sex</th>\n",
       "      <th>smoking</th>\n",
       "      <th>time</th>\n",
       "    </tr>\n",
       "  </thead>\n",
       "  <tbody>\n",
       "  </tbody>\n",
       "</table>\n",
       "</div>"
      ],
      "text/plain": [
       "Empty DataFrame\n",
       "Columns: [age, anaemia, creatinine_phosphokinase, diabetes, ejection_fraction, high_blood_pressure, platelets, serum_creatinine, serum_sodium, sex, smoking, time]\n",
       "Index: []"
      ]
     },
     "execution_count": 164,
     "metadata": {},
     "output_type": "execute_result"
    }
   ],
   "source": [
    "# Showing time column outliers\n",
    "Show_LLUL(X_train, 'time', time_LL, time_UL)"
   ]
  },
  {
   "cell_type": "markdown",
   "metadata": {},
   "source": [
    "Statement :<br>\n",
    "No outliers need to be handled."
   ]
  },
  {
   "cell_type": "code",
   "execution_count": 165,
   "metadata": {},
   "outputs": [
    {
     "name": "stdout",
     "output_type": "stream",
     "text": [
      "0.8658008658008658 % of overall data is considered as outliers\n"
     ]
    },
    {
     "data": {
      "text/html": [
       "<div>\n",
       "<style scoped>\n",
       "    .dataframe tbody tr th:only-of-type {\n",
       "        vertical-align: middle;\n",
       "    }\n",
       "\n",
       "    .dataframe tbody tr th {\n",
       "        vertical-align: top;\n",
       "    }\n",
       "\n",
       "    .dataframe thead th {\n",
       "        text-align: right;\n",
       "    }\n",
       "</style>\n",
       "<table border=\"1\" class=\"dataframe\">\n",
       "  <thead>\n",
       "    <tr style=\"text-align: right;\">\n",
       "      <th></th>\n",
       "      <th>age</th>\n",
       "      <th>anaemia</th>\n",
       "      <th>creatinine_phosphokinase</th>\n",
       "      <th>diabetes</th>\n",
       "      <th>ejection_fraction</th>\n",
       "      <th>high_blood_pressure</th>\n",
       "      <th>platelets</th>\n",
       "      <th>serum_creatinine</th>\n",
       "      <th>serum_sodium</th>\n",
       "      <th>sex</th>\n",
       "      <th>smoking</th>\n",
       "      <th>time</th>\n",
       "    </tr>\n",
       "  </thead>\n",
       "  <tbody>\n",
       "    <tr>\n",
       "      <th>101</th>\n",
       "      <td>45.0</td>\n",
       "      <td>0</td>\n",
       "      <td>582</td>\n",
       "      <td>0</td>\n",
       "      <td>80</td>\n",
       "      <td>0</td>\n",
       "      <td>263358.03</td>\n",
       "      <td>1.18</td>\n",
       "      <td>137</td>\n",
       "      <td>0</td>\n",
       "      <td>0</td>\n",
       "      <td>63</td>\n",
       "    </tr>\n",
       "    <tr>\n",
       "      <th>100</th>\n",
       "      <td>54.0</td>\n",
       "      <td>1</td>\n",
       "      <td>427</td>\n",
       "      <td>0</td>\n",
       "      <td>70</td>\n",
       "      <td>1</td>\n",
       "      <td>151000.00</td>\n",
       "      <td>9.00</td>\n",
       "      <td>137</td>\n",
       "      <td>0</td>\n",
       "      <td>0</td>\n",
       "      <td>196</td>\n",
       "    </tr>\n",
       "  </tbody>\n",
       "</table>\n",
       "</div>"
      ],
      "text/plain": [
       "      age  anaemia  creatinine_phosphokinase  diabetes  ejection_fraction  \\\n",
       "101  45.0        0                       582         0                 80   \n",
       "100  54.0        1                       427         0                 70   \n",
       "\n",
       "     high_blood_pressure  platelets  serum_creatinine  serum_sodium  sex  \\\n",
       "101                    0  263358.03              1.18           137    0   \n",
       "100                    1  151000.00              9.00           137    0   \n",
       "\n",
       "     smoking  time  \n",
       "101        0    63  \n",
       "100        0   196  "
      ]
     },
     "execution_count": 165,
     "metadata": {},
     "output_type": "execute_result"
    }
   ],
   "source": [
    "# Showing ejection_fraction column outliers\n",
    "Show_LLUL(X_train, 'ejection_fraction', ejection_fraction_LL, ejection_fraction_UL)"
   ]
  },
  {
   "cell_type": "markdown",
   "metadata": {},
   "source": [
    "Statement :<br>\n",
    "The highest number is 80, but it's still considered as natural outliers.<br>\n",
    "Source : https://www.texasheart.org/heart-health/heart-information-center/frequently-asked-patient-questions/is-80-ef-good-or-dangerous/"
   ]
  },
  {
   "cell_type": "code",
   "execution_count": 166,
   "metadata": {},
   "outputs": [
    {
     "name": "stdout",
     "output_type": "stream",
     "text": [
      "6.0606060606060606 % of overall data is considered as outliers\n"
     ]
    },
    {
     "data": {
      "text/html": [
       "<div>\n",
       "<style scoped>\n",
       "    .dataframe tbody tr th:only-of-type {\n",
       "        vertical-align: middle;\n",
       "    }\n",
       "\n",
       "    .dataframe tbody tr th {\n",
       "        vertical-align: top;\n",
       "    }\n",
       "\n",
       "    .dataframe thead th {\n",
       "        text-align: right;\n",
       "    }\n",
       "</style>\n",
       "<table border=\"1\" class=\"dataframe\">\n",
       "  <thead>\n",
       "    <tr style=\"text-align: right;\">\n",
       "      <th></th>\n",
       "      <th>age</th>\n",
       "      <th>anaemia</th>\n",
       "      <th>creatinine_phosphokinase</th>\n",
       "      <th>diabetes</th>\n",
       "      <th>ejection_fraction</th>\n",
       "      <th>high_blood_pressure</th>\n",
       "      <th>platelets</th>\n",
       "      <th>serum_creatinine</th>\n",
       "      <th>serum_sodium</th>\n",
       "      <th>sex</th>\n",
       "      <th>smoking</th>\n",
       "      <th>time</th>\n",
       "    </tr>\n",
       "  </thead>\n",
       "  <tbody>\n",
       "    <tr>\n",
       "      <th>97</th>\n",
       "      <td>45.0</td>\n",
       "      <td>0</td>\n",
       "      <td>2060</td>\n",
       "      <td>1</td>\n",
       "      <td>60</td>\n",
       "      <td>0</td>\n",
       "      <td>742000.0</td>\n",
       "      <td>0.80</td>\n",
       "      <td>138</td>\n",
       "      <td>0</td>\n",
       "      <td>0</td>\n",
       "      <td>278</td>\n",
       "    </tr>\n",
       "    <tr>\n",
       "      <th>82</th>\n",
       "      <td>45.0</td>\n",
       "      <td>0</td>\n",
       "      <td>582</td>\n",
       "      <td>1</td>\n",
       "      <td>55</td>\n",
       "      <td>0</td>\n",
       "      <td>543000.0</td>\n",
       "      <td>1.00</td>\n",
       "      <td>132</td>\n",
       "      <td>0</td>\n",
       "      <td>0</td>\n",
       "      <td>250</td>\n",
       "    </tr>\n",
       "    <tr>\n",
       "      <th>217</th>\n",
       "      <td>70.0</td>\n",
       "      <td>0</td>\n",
       "      <td>582</td>\n",
       "      <td>1</td>\n",
       "      <td>38</td>\n",
       "      <td>0</td>\n",
       "      <td>25100.0</td>\n",
       "      <td>1.10</td>\n",
       "      <td>140</td>\n",
       "      <td>1</td>\n",
       "      <td>0</td>\n",
       "      <td>246</td>\n",
       "    </tr>\n",
       "    <tr>\n",
       "      <th>36</th>\n",
       "      <td>70.0</td>\n",
       "      <td>0</td>\n",
       "      <td>81</td>\n",
       "      <td>1</td>\n",
       "      <td>35</td>\n",
       "      <td>1</td>\n",
       "      <td>533000.0</td>\n",
       "      <td>1.30</td>\n",
       "      <td>139</td>\n",
       "      <td>0</td>\n",
       "      <td>0</td>\n",
       "      <td>212</td>\n",
       "    </tr>\n",
       "    <tr>\n",
       "      <th>259</th>\n",
       "      <td>82.0</td>\n",
       "      <td>1</td>\n",
       "      <td>379</td>\n",
       "      <td>0</td>\n",
       "      <td>50</td>\n",
       "      <td>0</td>\n",
       "      <td>47000.0</td>\n",
       "      <td>1.30</td>\n",
       "      <td>136</td>\n",
       "      <td>1</td>\n",
       "      <td>0</td>\n",
       "      <td>13</td>\n",
       "    </tr>\n",
       "    <tr>\n",
       "      <th>20</th>\n",
       "      <td>72.0</td>\n",
       "      <td>1</td>\n",
       "      <td>328</td>\n",
       "      <td>0</td>\n",
       "      <td>30</td>\n",
       "      <td>1</td>\n",
       "      <td>621000.0</td>\n",
       "      <td>1.70</td>\n",
       "      <td>138</td>\n",
       "      <td>0</td>\n",
       "      <td>1</td>\n",
       "      <td>88</td>\n",
       "    </tr>\n",
       "    <tr>\n",
       "      <th>267</th>\n",
       "      <td>78.0</td>\n",
       "      <td>0</td>\n",
       "      <td>224</td>\n",
       "      <td>0</td>\n",
       "      <td>50</td>\n",
       "      <td>0</td>\n",
       "      <td>481000.0</td>\n",
       "      <td>1.40</td>\n",
       "      <td>138</td>\n",
       "      <td>1</td>\n",
       "      <td>1</td>\n",
       "      <td>192</td>\n",
       "    </tr>\n",
       "    <tr>\n",
       "      <th>149</th>\n",
       "      <td>95.0</td>\n",
       "      <td>1</td>\n",
       "      <td>371</td>\n",
       "      <td>0</td>\n",
       "      <td>30</td>\n",
       "      <td>0</td>\n",
       "      <td>461000.0</td>\n",
       "      <td>2.00</td>\n",
       "      <td>132</td>\n",
       "      <td>1</td>\n",
       "      <td>0</td>\n",
       "      <td>50</td>\n",
       "    </tr>\n",
       "    <tr>\n",
       "      <th>240</th>\n",
       "      <td>70.0</td>\n",
       "      <td>0</td>\n",
       "      <td>582</td>\n",
       "      <td>0</td>\n",
       "      <td>40</td>\n",
       "      <td>0</td>\n",
       "      <td>51000.0</td>\n",
       "      <td>2.70</td>\n",
       "      <td>136</td>\n",
       "      <td>1</td>\n",
       "      <td>1</td>\n",
       "      <td>250</td>\n",
       "    </tr>\n",
       "    <tr>\n",
       "      <th>125</th>\n",
       "      <td>65.0</td>\n",
       "      <td>0</td>\n",
       "      <td>113</td>\n",
       "      <td>1</td>\n",
       "      <td>25</td>\n",
       "      <td>0</td>\n",
       "      <td>497000.0</td>\n",
       "      <td>1.83</td>\n",
       "      <td>135</td>\n",
       "      <td>1</td>\n",
       "      <td>0</td>\n",
       "      <td>67</td>\n",
       "    </tr>\n",
       "    <tr>\n",
       "      <th>25</th>\n",
       "      <td>60.0</td>\n",
       "      <td>0</td>\n",
       "      <td>166</td>\n",
       "      <td>0</td>\n",
       "      <td>30</td>\n",
       "      <td>0</td>\n",
       "      <td>62000.0</td>\n",
       "      <td>1.70</td>\n",
       "      <td>127</td>\n",
       "      <td>0</td>\n",
       "      <td>0</td>\n",
       "      <td>207</td>\n",
       "    </tr>\n",
       "    <tr>\n",
       "      <th>52</th>\n",
       "      <td>55.0</td>\n",
       "      <td>0</td>\n",
       "      <td>84</td>\n",
       "      <td>1</td>\n",
       "      <td>38</td>\n",
       "      <td>0</td>\n",
       "      <td>451000.0</td>\n",
       "      <td>1.30</td>\n",
       "      <td>136</td>\n",
       "      <td>0</td>\n",
       "      <td>0</td>\n",
       "      <td>246</td>\n",
       "    </tr>\n",
       "    <tr>\n",
       "      <th>115</th>\n",
       "      <td>59.0</td>\n",
       "      <td>0</td>\n",
       "      <td>66</td>\n",
       "      <td>1</td>\n",
       "      <td>20</td>\n",
       "      <td>0</td>\n",
       "      <td>70000.0</td>\n",
       "      <td>2.40</td>\n",
       "      <td>134</td>\n",
       "      <td>1</td>\n",
       "      <td>0</td>\n",
       "      <td>135</td>\n",
       "    </tr>\n",
       "    <tr>\n",
       "      <th>141</th>\n",
       "      <td>58.0</td>\n",
       "      <td>0</td>\n",
       "      <td>582</td>\n",
       "      <td>1</td>\n",
       "      <td>25</td>\n",
       "      <td>0</td>\n",
       "      <td>504000.0</td>\n",
       "      <td>1.00</td>\n",
       "      <td>138</td>\n",
       "      <td>1</td>\n",
       "      <td>0</td>\n",
       "      <td>205</td>\n",
       "    </tr>\n",
       "  </tbody>\n",
       "</table>\n",
       "</div>"
      ],
      "text/plain": [
       "      age  anaemia  creatinine_phosphokinase  diabetes  ejection_fraction  \\\n",
       "97   45.0        0                      2060         1                 60   \n",
       "82   45.0        0                       582         1                 55   \n",
       "217  70.0        0                       582         1                 38   \n",
       "36   70.0        0                        81         1                 35   \n",
       "259  82.0        1                       379         0                 50   \n",
       "20   72.0        1                       328         0                 30   \n",
       "267  78.0        0                       224         0                 50   \n",
       "149  95.0        1                       371         0                 30   \n",
       "240  70.0        0                       582         0                 40   \n",
       "125  65.0        0                       113         1                 25   \n",
       "25   60.0        0                       166         0                 30   \n",
       "52   55.0        0                        84         1                 38   \n",
       "115  59.0        0                        66         1                 20   \n",
       "141  58.0        0                       582         1                 25   \n",
       "\n",
       "     high_blood_pressure  platelets  serum_creatinine  serum_sodium  sex  \\\n",
       "97                     0   742000.0              0.80           138    0   \n",
       "82                     0   543000.0              1.00           132    0   \n",
       "217                    0    25100.0              1.10           140    1   \n",
       "36                     1   533000.0              1.30           139    0   \n",
       "259                    0    47000.0              1.30           136    1   \n",
       "20                     1   621000.0              1.70           138    0   \n",
       "267                    0   481000.0              1.40           138    1   \n",
       "149                    0   461000.0              2.00           132    1   \n",
       "240                    0    51000.0              2.70           136    1   \n",
       "125                    0   497000.0              1.83           135    1   \n",
       "25                     0    62000.0              1.70           127    0   \n",
       "52                     0   451000.0              1.30           136    0   \n",
       "115                    0    70000.0              2.40           134    1   \n",
       "141                    0   504000.0              1.00           138    1   \n",
       "\n",
       "     smoking  time  \n",
       "97         0   278  \n",
       "82         0   250  \n",
       "217        0   246  \n",
       "36         0   212  \n",
       "259        0    13  \n",
       "20         1    88  \n",
       "267        1   192  \n",
       "149        0    50  \n",
       "240        1   250  \n",
       "125        0    67  \n",
       "25         0   207  \n",
       "52         0   246  \n",
       "115        0   135  \n",
       "141        0   205  "
      ]
     },
     "execution_count": 166,
     "metadata": {},
     "output_type": "execute_result"
    }
   ],
   "source": [
    "# Showing platelets column outliers\n",
    "Show_LLUL(X_train, 'platelets', platelets_LL, platelets_UL)"
   ]
  },
  {
   "cell_type": "markdown",
   "metadata": {},
   "source": [
    "Statement :<br>\n",
    "The value of data outliers is still a normal value for typical human body range.<br>\n",
    "It may leads to another disease yet still a make sense number.\n",
    "Therefore, I can consider them as natural outliers.<br>\n",
    "Source : https://www.urmc.rochester.edu/encyclopedia/content.aspx?ContentTypeID=160&ContentID=36"
   ]
  },
  {
   "cell_type": "code",
   "execution_count": 167,
   "metadata": {},
   "outputs": [
    {
     "name": "stdout",
     "output_type": "stream",
     "text": [
      "5.194805194805195 % of overall data is considered as outliers\n"
     ]
    },
    {
     "data": {
      "text/html": [
       "<div>\n",
       "<style scoped>\n",
       "    .dataframe tbody tr th:only-of-type {\n",
       "        vertical-align: middle;\n",
       "    }\n",
       "\n",
       "    .dataframe tbody tr th {\n",
       "        vertical-align: top;\n",
       "    }\n",
       "\n",
       "    .dataframe thead th {\n",
       "        text-align: right;\n",
       "    }\n",
       "</style>\n",
       "<table border=\"1\" class=\"dataframe\">\n",
       "  <thead>\n",
       "    <tr style=\"text-align: right;\">\n",
       "      <th></th>\n",
       "      <th>age</th>\n",
       "      <th>anaemia</th>\n",
       "      <th>creatinine_phosphokinase</th>\n",
       "      <th>diabetes</th>\n",
       "      <th>ejection_fraction</th>\n",
       "      <th>high_blood_pressure</th>\n",
       "      <th>platelets</th>\n",
       "      <th>serum_creatinine</th>\n",
       "      <th>serum_sodium</th>\n",
       "      <th>sex</th>\n",
       "      <th>smoking</th>\n",
       "      <th>time</th>\n",
       "    </tr>\n",
       "  </thead>\n",
       "  <tbody>\n",
       "    <tr>\n",
       "      <th>221</th>\n",
       "      <td>45.0</td>\n",
       "      <td>0</td>\n",
       "      <td>2413</td>\n",
       "      <td>0</td>\n",
       "      <td>38</td>\n",
       "      <td>0</td>\n",
       "      <td>140000.00</td>\n",
       "      <td>1.40</td>\n",
       "      <td>140</td>\n",
       "      <td>1</td>\n",
       "      <td>1</td>\n",
       "      <td>280</td>\n",
       "    </tr>\n",
       "    <tr>\n",
       "      <th>172</th>\n",
       "      <td>85.0</td>\n",
       "      <td>0</td>\n",
       "      <td>5882</td>\n",
       "      <td>0</td>\n",
       "      <td>35</td>\n",
       "      <td>0</td>\n",
       "      <td>243000.00</td>\n",
       "      <td>1.00</td>\n",
       "      <td>132</td>\n",
       "      <td>1</td>\n",
       "      <td>1</td>\n",
       "      <td>72</td>\n",
       "    </tr>\n",
       "    <tr>\n",
       "      <th>232</th>\n",
       "      <td>52.0</td>\n",
       "      <td>0</td>\n",
       "      <td>3966</td>\n",
       "      <td>0</td>\n",
       "      <td>40</td>\n",
       "      <td>0</td>\n",
       "      <td>325000.00</td>\n",
       "      <td>0.90</td>\n",
       "      <td>140</td>\n",
       "      <td>1</td>\n",
       "      <td>1</td>\n",
       "      <td>146</td>\n",
       "    </tr>\n",
       "    <tr>\n",
       "      <th>98</th>\n",
       "      <td>60.0</td>\n",
       "      <td>0</td>\n",
       "      <td>3964</td>\n",
       "      <td>1</td>\n",
       "      <td>62</td>\n",
       "      <td>0</td>\n",
       "      <td>263358.03</td>\n",
       "      <td>6.80</td>\n",
       "      <td>146</td>\n",
       "      <td>0</td>\n",
       "      <td>0</td>\n",
       "      <td>43</td>\n",
       "    </tr>\n",
       "    <tr>\n",
       "      <th>97</th>\n",
       "      <td>45.0</td>\n",
       "      <td>0</td>\n",
       "      <td>2060</td>\n",
       "      <td>1</td>\n",
       "      <td>60</td>\n",
       "      <td>0</td>\n",
       "      <td>742000.00</td>\n",
       "      <td>0.80</td>\n",
       "      <td>138</td>\n",
       "      <td>0</td>\n",
       "      <td>0</td>\n",
       "      <td>278</td>\n",
       "    </tr>\n",
       "    <tr>\n",
       "      <th>148</th>\n",
       "      <td>60.0</td>\n",
       "      <td>0</td>\n",
       "      <td>2656</td>\n",
       "      <td>1</td>\n",
       "      <td>30</td>\n",
       "      <td>0</td>\n",
       "      <td>305000.00</td>\n",
       "      <td>2.30</td>\n",
       "      <td>137</td>\n",
       "      <td>1</td>\n",
       "      <td>0</td>\n",
       "      <td>30</td>\n",
       "    </tr>\n",
       "    <tr>\n",
       "      <th>190</th>\n",
       "      <td>55.0</td>\n",
       "      <td>1</td>\n",
       "      <td>2794</td>\n",
       "      <td>0</td>\n",
       "      <td>35</td>\n",
       "      <td>1</td>\n",
       "      <td>141000.00</td>\n",
       "      <td>1.00</td>\n",
       "      <td>140</td>\n",
       "      <td>1</td>\n",
       "      <td>0</td>\n",
       "      <td>206</td>\n",
       "    </tr>\n",
       "    <tr>\n",
       "      <th>32</th>\n",
       "      <td>50.0</td>\n",
       "      <td>1</td>\n",
       "      <td>2334</td>\n",
       "      <td>1</td>\n",
       "      <td>35</td>\n",
       "      <td>0</td>\n",
       "      <td>75000.00</td>\n",
       "      <td>0.90</td>\n",
       "      <td>142</td>\n",
       "      <td>0</td>\n",
       "      <td>0</td>\n",
       "      <td>126</td>\n",
       "    </tr>\n",
       "    <tr>\n",
       "      <th>64</th>\n",
       "      <td>60.0</td>\n",
       "      <td>1</td>\n",
       "      <td>2281</td>\n",
       "      <td>1</td>\n",
       "      <td>40</td>\n",
       "      <td>0</td>\n",
       "      <td>283000.00</td>\n",
       "      <td>1.00</td>\n",
       "      <td>141</td>\n",
       "      <td>0</td>\n",
       "      <td>0</td>\n",
       "      <td>187</td>\n",
       "    </tr>\n",
       "    <tr>\n",
       "      <th>26</th>\n",
       "      <td>50.0</td>\n",
       "      <td>0</td>\n",
       "      <td>2522</td>\n",
       "      <td>0</td>\n",
       "      <td>30</td>\n",
       "      <td>1</td>\n",
       "      <td>404000.00</td>\n",
       "      <td>0.50</td>\n",
       "      <td>139</td>\n",
       "      <td>0</td>\n",
       "      <td>0</td>\n",
       "      <td>214</td>\n",
       "    </tr>\n",
       "    <tr>\n",
       "      <th>156</th>\n",
       "      <td>45.0</td>\n",
       "      <td>0</td>\n",
       "      <td>2442</td>\n",
       "      <td>1</td>\n",
       "      <td>30</td>\n",
       "      <td>0</td>\n",
       "      <td>334000.00</td>\n",
       "      <td>1.10</td>\n",
       "      <td>139</td>\n",
       "      <td>1</td>\n",
       "      <td>0</td>\n",
       "      <td>129</td>\n",
       "    </tr>\n",
       "    <tr>\n",
       "      <th>178</th>\n",
       "      <td>81.0</td>\n",
       "      <td>0</td>\n",
       "      <td>4540</td>\n",
       "      <td>0</td>\n",
       "      <td>35</td>\n",
       "      <td>0</td>\n",
       "      <td>231000.00</td>\n",
       "      <td>1.18</td>\n",
       "      <td>137</td>\n",
       "      <td>1</td>\n",
       "      <td>1</td>\n",
       "      <td>107</td>\n",
       "    </tr>\n",
       "  </tbody>\n",
       "</table>\n",
       "</div>"
      ],
      "text/plain": [
       "      age  anaemia  creatinine_phosphokinase  diabetes  ejection_fraction  \\\n",
       "221  45.0        0                      2413         0                 38   \n",
       "172  85.0        0                      5882         0                 35   \n",
       "232  52.0        0                      3966         0                 40   \n",
       "98   60.0        0                      3964         1                 62   \n",
       "97   45.0        0                      2060         1                 60   \n",
       "148  60.0        0                      2656         1                 30   \n",
       "190  55.0        1                      2794         0                 35   \n",
       "32   50.0        1                      2334         1                 35   \n",
       "64   60.0        1                      2281         1                 40   \n",
       "26   50.0        0                      2522         0                 30   \n",
       "156  45.0        0                      2442         1                 30   \n",
       "178  81.0        0                      4540         0                 35   \n",
       "\n",
       "     high_blood_pressure  platelets  serum_creatinine  serum_sodium  sex  \\\n",
       "221                    0  140000.00              1.40           140    1   \n",
       "172                    0  243000.00              1.00           132    1   \n",
       "232                    0  325000.00              0.90           140    1   \n",
       "98                     0  263358.03              6.80           146    0   \n",
       "97                     0  742000.00              0.80           138    0   \n",
       "148                    0  305000.00              2.30           137    1   \n",
       "190                    1  141000.00              1.00           140    1   \n",
       "32                     0   75000.00              0.90           142    0   \n",
       "64                     0  283000.00              1.00           141    0   \n",
       "26                     1  404000.00              0.50           139    0   \n",
       "156                    0  334000.00              1.10           139    1   \n",
       "178                    0  231000.00              1.18           137    1   \n",
       "\n",
       "     smoking  time  \n",
       "221        1   280  \n",
       "172        1    72  \n",
       "232        1   146  \n",
       "98         0    43  \n",
       "97         0   278  \n",
       "148        0    30  \n",
       "190        0   206  \n",
       "32         0   126  \n",
       "64         0   187  \n",
       "26         0   214  \n",
       "156        0   129  \n",
       "178        1   107  "
      ]
     },
     "execution_count": 167,
     "metadata": {},
     "output_type": "execute_result"
    }
   ],
   "source": [
    "# Showing creatinine_phosphokinase column outliers\n",
    "Show_LLUL(X_train, 'creatinine_phosphokinase', creatinine_phosphokinase_LL, creatinine_phosphokinase_UL)"
   ]
  },
  {
   "cell_type": "code",
   "execution_count": 168,
   "metadata": {},
   "outputs": [
    {
     "name": "stdout",
     "output_type": "stream",
     "text": [
      "5.194805194805195 % of overall data is considered as outliers\n"
     ]
    },
    {
     "data": {
      "text/html": [
       "<div>\n",
       "<style scoped>\n",
       "    .dataframe tbody tr th:only-of-type {\n",
       "        vertical-align: middle;\n",
       "    }\n",
       "\n",
       "    .dataframe tbody tr th {\n",
       "        vertical-align: top;\n",
       "    }\n",
       "\n",
       "    .dataframe thead th {\n",
       "        text-align: right;\n",
       "    }\n",
       "</style>\n",
       "<table border=\"1\" class=\"dataframe\">\n",
       "  <thead>\n",
       "    <tr style=\"text-align: right;\">\n",
       "      <th></th>\n",
       "      <th>age</th>\n",
       "      <th>anaemia</th>\n",
       "      <th>creatinine_phosphokinase</th>\n",
       "      <th>diabetes</th>\n",
       "      <th>ejection_fraction</th>\n",
       "      <th>high_blood_pressure</th>\n",
       "      <th>platelets</th>\n",
       "      <th>serum_creatinine</th>\n",
       "      <th>serum_sodium</th>\n",
       "      <th>sex</th>\n",
       "      <th>smoking</th>\n",
       "      <th>time</th>\n",
       "    </tr>\n",
       "  </thead>\n",
       "  <tbody>\n",
       "    <tr>\n",
       "      <th>112</th>\n",
       "      <td>60.0</td>\n",
       "      <td>0</td>\n",
       "      <td>68</td>\n",
       "      <td>0</td>\n",
       "      <td>20</td>\n",
       "      <td>0</td>\n",
       "      <td>119000.00</td>\n",
       "      <td>2.9</td>\n",
       "      <td>127</td>\n",
       "      <td>1</td>\n",
       "      <td>1</td>\n",
       "      <td>64</td>\n",
       "    </tr>\n",
       "    <tr>\n",
       "      <th>244</th>\n",
       "      <td>85.0</td>\n",
       "      <td>0</td>\n",
       "      <td>23</td>\n",
       "      <td>0</td>\n",
       "      <td>45</td>\n",
       "      <td>0</td>\n",
       "      <td>360000.00</td>\n",
       "      <td>3.0</td>\n",
       "      <td>132</td>\n",
       "      <td>1</td>\n",
       "      <td>0</td>\n",
       "      <td>28</td>\n",
       "    </tr>\n",
       "    <tr>\n",
       "      <th>98</th>\n",
       "      <td>60.0</td>\n",
       "      <td>0</td>\n",
       "      <td>3964</td>\n",
       "      <td>1</td>\n",
       "      <td>62</td>\n",
       "      <td>0</td>\n",
       "      <td>263358.03</td>\n",
       "      <td>6.8</td>\n",
       "      <td>146</td>\n",
       "      <td>0</td>\n",
       "      <td>0</td>\n",
       "      <td>43</td>\n",
       "    </tr>\n",
       "    <tr>\n",
       "      <th>199</th>\n",
       "      <td>75.0</td>\n",
       "      <td>1</td>\n",
       "      <td>81</td>\n",
       "      <td>0</td>\n",
       "      <td>38</td>\n",
       "      <td>1</td>\n",
       "      <td>368000.00</td>\n",
       "      <td>4.0</td>\n",
       "      <td>131</td>\n",
       "      <td>1</td>\n",
       "      <td>1</td>\n",
       "      <td>10</td>\n",
       "    </tr>\n",
       "    <tr>\n",
       "      <th>228</th>\n",
       "      <td>60.0</td>\n",
       "      <td>0</td>\n",
       "      <td>582</td>\n",
       "      <td>0</td>\n",
       "      <td>40</td>\n",
       "      <td>0</td>\n",
       "      <td>217000.00</td>\n",
       "      <td>3.7</td>\n",
       "      <td>134</td>\n",
       "      <td>1</td>\n",
       "      <td>0</td>\n",
       "      <td>96</td>\n",
       "    </tr>\n",
       "    <tr>\n",
       "      <th>166</th>\n",
       "      <td>80.0</td>\n",
       "      <td>1</td>\n",
       "      <td>123</td>\n",
       "      <td>0</td>\n",
       "      <td>35</td>\n",
       "      <td>1</td>\n",
       "      <td>388000.00</td>\n",
       "      <td>9.4</td>\n",
       "      <td>133</td>\n",
       "      <td>1</td>\n",
       "      <td>1</td>\n",
       "      <td>10</td>\n",
       "    </tr>\n",
       "    <tr>\n",
       "      <th>165</th>\n",
       "      <td>42.0</td>\n",
       "      <td>0</td>\n",
       "      <td>64</td>\n",
       "      <td>0</td>\n",
       "      <td>30</td>\n",
       "      <td>0</td>\n",
       "      <td>215000.00</td>\n",
       "      <td>3.8</td>\n",
       "      <td>128</td>\n",
       "      <td>1</td>\n",
       "      <td>1</td>\n",
       "      <td>250</td>\n",
       "    </tr>\n",
       "    <tr>\n",
       "      <th>100</th>\n",
       "      <td>54.0</td>\n",
       "      <td>1</td>\n",
       "      <td>427</td>\n",
       "      <td>0</td>\n",
       "      <td>70</td>\n",
       "      <td>1</td>\n",
       "      <td>151000.00</td>\n",
       "      <td>9.0</td>\n",
       "      <td>137</td>\n",
       "      <td>0</td>\n",
       "      <td>0</td>\n",
       "      <td>196</td>\n",
       "    </tr>\n",
       "    <tr>\n",
       "      <th>250</th>\n",
       "      <td>60.0</td>\n",
       "      <td>1</td>\n",
       "      <td>1082</td>\n",
       "      <td>1</td>\n",
       "      <td>45</td>\n",
       "      <td>0</td>\n",
       "      <td>250000.00</td>\n",
       "      <td>6.1</td>\n",
       "      <td>131</td>\n",
       "      <td>1</td>\n",
       "      <td>0</td>\n",
       "      <td>107</td>\n",
       "    </tr>\n",
       "    <tr>\n",
       "      <th>41</th>\n",
       "      <td>60.0</td>\n",
       "      <td>0</td>\n",
       "      <td>235</td>\n",
       "      <td>1</td>\n",
       "      <td>38</td>\n",
       "      <td>0</td>\n",
       "      <td>329000.00</td>\n",
       "      <td>3.0</td>\n",
       "      <td>142</td>\n",
       "      <td>0</td>\n",
       "      <td>0</td>\n",
       "      <td>30</td>\n",
       "    </tr>\n",
       "    <tr>\n",
       "      <th>109</th>\n",
       "      <td>80.0</td>\n",
       "      <td>1</td>\n",
       "      <td>553</td>\n",
       "      <td>0</td>\n",
       "      <td>20</td>\n",
       "      <td>1</td>\n",
       "      <td>140000.00</td>\n",
       "      <td>4.4</td>\n",
       "      <td>133</td>\n",
       "      <td>1</td>\n",
       "      <td>0</td>\n",
       "      <td>41</td>\n",
       "    </tr>\n",
       "    <tr>\n",
       "      <th>203</th>\n",
       "      <td>58.0</td>\n",
       "      <td>1</td>\n",
       "      <td>60</td>\n",
       "      <td>0</td>\n",
       "      <td>38</td>\n",
       "      <td>0</td>\n",
       "      <td>153000.00</td>\n",
       "      <td>5.8</td>\n",
       "      <td>134</td>\n",
       "      <td>1</td>\n",
       "      <td>0</td>\n",
       "      <td>26</td>\n",
       "    </tr>\n",
       "  </tbody>\n",
       "</table>\n",
       "</div>"
      ],
      "text/plain": [
       "      age  anaemia  creatinine_phosphokinase  diabetes  ejection_fraction  \\\n",
       "112  60.0        0                        68         0                 20   \n",
       "244  85.0        0                        23         0                 45   \n",
       "98   60.0        0                      3964         1                 62   \n",
       "199  75.0        1                        81         0                 38   \n",
       "228  60.0        0                       582         0                 40   \n",
       "166  80.0        1                       123         0                 35   \n",
       "165  42.0        0                        64         0                 30   \n",
       "100  54.0        1                       427         0                 70   \n",
       "250  60.0        1                      1082         1                 45   \n",
       "41   60.0        0                       235         1                 38   \n",
       "109  80.0        1                       553         0                 20   \n",
       "203  58.0        1                        60         0                 38   \n",
       "\n",
       "     high_blood_pressure  platelets  serum_creatinine  serum_sodium  sex  \\\n",
       "112                    0  119000.00               2.9           127    1   \n",
       "244                    0  360000.00               3.0           132    1   \n",
       "98                     0  263358.03               6.8           146    0   \n",
       "199                    1  368000.00               4.0           131    1   \n",
       "228                    0  217000.00               3.7           134    1   \n",
       "166                    1  388000.00               9.4           133    1   \n",
       "165                    0  215000.00               3.8           128    1   \n",
       "100                    1  151000.00               9.0           137    0   \n",
       "250                    0  250000.00               6.1           131    1   \n",
       "41                     0  329000.00               3.0           142    0   \n",
       "109                    1  140000.00               4.4           133    1   \n",
       "203                    0  153000.00               5.8           134    1   \n",
       "\n",
       "     smoking  time  \n",
       "112        1    64  \n",
       "244        0    28  \n",
       "98         0    43  \n",
       "199        1    10  \n",
       "228        0    96  \n",
       "166        1    10  \n",
       "165        1   250  \n",
       "100        0   196  \n",
       "250        0   107  \n",
       "41         0    30  \n",
       "109        0    41  \n",
       "203        0    26  "
      ]
     },
     "execution_count": 168,
     "metadata": {},
     "output_type": "execute_result"
    }
   ],
   "source": [
    "# Showing serum_creatinine column outliers\n",
    "Show_LLUL(X_train, 'serum_creatinine', serum_creatinine_LL, serum_creatinine_UL)"
   ]
  },
  {
   "cell_type": "markdown",
   "metadata": {},
   "source": [
    "Statement :<br>\n",
    "Since CPK is far beyond the normal range, but their number of outliers is quite high ( over 5% than the data population ), therefore capping method will be performed to handling the outliers as well as in serum_creatinine column."
   ]
  },
  {
   "cell_type": "code",
   "execution_count": 169,
   "metadata": {},
   "outputs": [],
   "source": [
    "# Making function for winsorizer\n",
    "winsoriser = Winsorizer(capping_method='iqr', tail = 'right', fold = 3)\n",
    "CPK_SC = ['creatinine_phosphokinase' , 'serum_creatinine']\n",
    "df_CPK_SC = X_train[CPK_SC]\n",
    "\n",
    "# Model learning the data distribution\n",
    "winsoriser.fit(df_CPK_SC)\n",
    "\n",
    "# Make a new dataframe with pay_amt_... data that has been capped\n",
    "CPK_SC_capped = winsoriser.transform(df_CPK_SC)"
   ]
  },
  {
   "cell_type": "code",
   "execution_count": 170,
   "metadata": {},
   "outputs": [
    {
     "name": "stdout",
     "output_type": "stream",
     "text": [
      "Before capping\n",
      "creatinine_phosphokinase    3.695482\n",
      "serum_creatinine            4.594511\n",
      "dtype: float64\n",
      "After capping\n",
      "creatinine_phosphokinase    1.871947\n",
      "serum_creatinine            1.560992\n",
      "dtype: float64\n"
     ]
    }
   ],
   "source": [
    "# Compare the CPK and serum creatinine distribution before and after being capped\n",
    "print('Before capping')\n",
    "print(X_train[CPK_SC].skew())\n",
    "print('After capping')\n",
    "print(CPK_SC_capped.skew())"
   ]
  },
  {
   "cell_type": "code",
   "execution_count": 171,
   "metadata": {},
   "outputs": [],
   "source": [
    "# Combine the capped column with main dataframe\n",
    "X_train = X_train.drop(CPK_SC, axis = 1)\n",
    "X_train_new = pd.merge(X_train, CPK_SC_capped, left_index=True, right_index=True)"
   ]
  },
  {
   "cell_type": "code",
   "execution_count": 172,
   "metadata": {},
   "outputs": [],
   "source": [
    "# Split the train test set based on their categories\n",
    "X_train_num = X_train_new[num_raw]\n",
    "X_train_cat = X_train_new[cat_raw]\n",
    "X_test_num = X_test[num_raw]\n",
    "X_test_cat = X_test[cat_raw]"
   ]
  },
  {
   "cell_type": "code",
   "execution_count": 173,
   "metadata": {},
   "outputs": [
    {
     "data": {
      "text/plain": [
       "time                        93.329489\n",
       "serum_creatinine            54.186159\n",
       "age                         24.865312\n",
       "ejection_fraction           15.695294\n",
       "platelets                    2.120394\n",
       "creatinine_phosphokinase     0.757744\n",
       "dtype: float64"
      ]
     },
     "execution_count": 173,
     "metadata": {},
     "output_type": "execute_result"
    }
   ],
   "source": [
    "# Feature selection\n",
    "# Calculate numerical and categorical significance level using ANOVA\n",
    "select_ANOV = SelectKBest(score_func = f_classif, k = 6)\n",
    "num_list = select_ANOV.fit(X_train_num, y_train)\n",
    "num_result = pd.Series(num_list.scores_)\n",
    "num_result.index = X_train_num.columns\n",
    "num_result.sort_values(ascending = False)"
   ]
  },
  {
   "cell_type": "markdown",
   "metadata": {},
   "source": [
    "Statement :<br>\n",
    "time, serum_creatinine, and age will be selected as numerical features."
   ]
  },
  {
   "cell_type": "code",
   "execution_count": 174,
   "metadata": {},
   "outputs": [
    {
     "data": {
      "text/plain": [
       "anaemia                2.415846\n",
       "high_blood_pressure    1.696678\n",
       "diabetes               0.190136\n",
       "sex                    0.066618\n",
       "smoking                0.009340\n",
       "dtype: float64"
      ]
     },
     "execution_count": 174,
     "metadata": {},
     "output_type": "execute_result"
    }
   ],
   "source": [
    "# Count dependency between 2 encoded categorical columns using Chi2\n",
    "select_chi2 = SelectKBest(score_func = chi2, k = 5)\n",
    "cat_list = select_chi2.fit(X_train_cat, y_train)\n",
    "cat_result = pd.Series(cat_list.scores_)\n",
    "cat_result.index = X_train_cat.columns\n",
    "cat_result.sort_values(ascending = False)"
   ]
  },
  {
   "cell_type": "markdown",
   "metadata": {},
   "source": [
    "Statement :<br>\n",
    "anaemia and high_blood_pressure will be selected as categorical features."
   ]
  },
  {
   "cell_type": "code",
   "execution_count": 175,
   "metadata": {},
   "outputs": [
    {
     "data": {
      "text/plain": [
       "age                         0.400560\n",
       "creatinine_phosphokinase    1.871947\n",
       "ejection_fraction           0.572618\n",
       "platelets                   0.977260\n",
       "serum_creatinine            1.560992\n",
       "time                        0.105809\n",
       "dtype: float64"
      ]
     },
     "execution_count": 175,
     "metadata": {},
     "output_type": "execute_result"
    }
   ],
   "source": [
    "# Check new train set distribution for scaling\n",
    "X_train_new[num_raw].skew()"
   ]
  },
  {
   "cell_type": "markdown",
   "metadata": {},
   "source": [
    "Statement :<br>\n",
    "Every column with normal distribution will be standarize using StandardScaler, while the skewed distribution will be Normalized using MinMaxScaler.<br>\n",
    "Skewness value over than 0.5 will be cosidered as skewed distribution.<br>\n",
    "Normal distribution : age, time<br>\n",
    "Skewed distribution : creatinine_phosphokinase, ejection_fraction, platelets, serum_creatinine\n"
   ]
  },
  {
   "cell_type": "code",
   "execution_count": 176,
   "metadata": {},
   "outputs": [],
   "source": [
    "# Make list for selected features\n",
    "num_nor = ['age','time'] # Numerical features with normal distributin\n",
    "num_skew = ['serum_creatinine'] # Numerical features with skewed distributin\n",
    "cat_final = ['anaemia' , 'high_blood_pressure'] # Categorical features"
   ]
  },
  {
   "cell_type": "code",
   "execution_count": 177,
   "metadata": {},
   "outputs": [],
   "source": [
    "# Scaling the numerical columns\n",
    "# Train set\n",
    "X_train_num_nor = X_train_new[num_nor]\n",
    "X_train_num_skew = X_train_new[num_skew]\n",
    "X_train_cat_final = X_train_new[cat_final]\n",
    "\n",
    "# Test set\n",
    "X_test_num_nor = X_test[num_nor]\n",
    "X_test_num_skew = X_test[num_skew]\n",
    "X_test_cat_final = X_test[cat_final]\n",
    "\n",
    "# Define the scaler function\n",
    "nor_scaler = StandardScaler()\n",
    "skew_scaler = MinMaxScaler()\n",
    "\n",
    "# Learn the numerical columns distribution in train set for scaling\n",
    "nor_scaler.fit(X_train_num_nor)\n",
    "skew_scaler.fit(X_train_num_skew)\n",
    "\n",
    "# Scaled the numerical columns by train set scale\n",
    "# Train set\n",
    "X_train_num_nor_scaled = nor_scaler.transform(X_train_num_nor)\n",
    "X_train_num_skew_scaled = skew_scaler.transform(X_train_num_skew)\n",
    "\n",
    "# Test set\n",
    "X_test_num_nor_scaled = nor_scaler.transform(X_test_num_nor)\n",
    "X_test_num_skew_scaled = skew_scaler.transform(X_test_num_skew)"
   ]
  },
  {
   "cell_type": "code",
   "execution_count": 178,
   "metadata": {},
   "outputs": [],
   "source": [
    "# Combine the scaled data\n",
    "columns_all = np.concatenate([num_nor, num_skew, cat_final])\n",
    "X_train_final = np.concatenate([X_train_num_nor_scaled, X_train_num_skew_scaled, X_train_cat_final], axis=1)\n",
    "X_test_final = np.concatenate([X_test_num_nor_scaled, X_test_num_skew_scaled, X_test_cat_final], axis=1)\n",
    "X_train = pd.DataFrame(X_train_final, columns = columns_all)\n",
    "X_test = pd.DataFrame(X_test_final, columns = columns_all)"
   ]
  },
  {
   "cell_type": "markdown",
   "metadata": {},
   "source": [
    "### 5. Model Definition"
   ]
  },
  {
   "cell_type": "code",
   "execution_count": 179,
   "metadata": {},
   "outputs": [],
   "source": [
    "# Defining the model with base parameters\n",
    "RF_Classifier = RandomForestClassifier(random_state = 1)\n",
    "AB_Classifier = AdaBoostClassifier(random_state = 1)"
   ]
  },
  {
   "cell_type": "markdown",
   "metadata": {},
   "source": [
    "Statement : <br>\n",
    "Since hyperparameters tunning isn't required, therefore the model will be using base parameters. Except the random_state, in order to keep the model results consistent."
   ]
  },
  {
   "cell_type": "markdown",
   "metadata": {},
   "source": [
    "### 6. Model Training"
   ]
  },
  {
   "cell_type": "code",
   "execution_count": 180,
   "metadata": {},
   "outputs": [],
   "source": [
    "# Model training\n",
    "RF_Classifier.fit(X_train, y_train)\n",
    "AB_Classifier.fit(X_train, y_train)\n",
    "\n",
    "# Model's predict result\n",
    "# Train set\n",
    "y_train_pred_RF = RF_Classifier.predict(X_train)\n",
    "y_train_pred_AB = AB_Classifier.predict(X_train)\n",
    "\n",
    "# Test set\n",
    "y_test_pred_RF = RF_Classifier.predict(X_test)\n",
    "y_test_pred_AB = AB_Classifier.predict(X_test)"
   ]
  },
  {
   "cell_type": "markdown",
   "metadata": {},
   "source": [
    "### 7. Model Evaluation"
   ]
  },
  {
   "cell_type": "code",
   "execution_count": 181,
   "metadata": {},
   "outputs": [
    {
     "name": "stdout",
     "output_type": "stream",
     "text": [
      "Random Forest Report \n",
      " Train Set\n",
      "              precision    recall  f1-score   support\n",
      "\n",
      "           0       1.00      1.00      1.00       157\n",
      "           1       1.00      1.00      1.00        74\n",
      "\n",
      "    accuracy                           1.00       231\n",
      "   macro avg       1.00      1.00      1.00       231\n",
      "weighted avg       1.00      1.00      1.00       231\n",
      "\n",
      "Test Set\n",
      "              precision    recall  f1-score   support\n",
      "\n",
      "           0       0.79      0.89      0.84        37\n",
      "           1       0.75      0.57      0.65        21\n",
      "\n",
      "    accuracy                           0.78        58\n",
      "   macro avg       0.77      0.73      0.74        58\n",
      "weighted avg       0.77      0.78      0.77        58\n",
      "\n"
     ]
    }
   ],
   "source": [
    "# Check the best model score reports\n",
    "\n",
    "# Random Forest Report\n",
    "print('Random Forest Report \\n Train Set')\n",
    "print(classification_report(y_train, y_train_pred_RF))\n",
    "print('Test Set')\n",
    "print(classification_report(y_test, y_test_pred_RF))"
   ]
  },
  {
   "cell_type": "code",
   "execution_count": 182,
   "metadata": {},
   "outputs": [
    {
     "name": "stdout",
     "output_type": "stream",
     "text": [
      "AdaBoost Report \n",
      " Train Set\n",
      "              precision    recall  f1-score   support\n",
      "\n",
      "           0       0.93      0.95      0.94       157\n",
      "           1       0.89      0.85      0.87        74\n",
      "\n",
      "    accuracy                           0.92       231\n",
      "   macro avg       0.91      0.90      0.90       231\n",
      "weighted avg       0.92      0.92      0.92       231\n",
      "\n",
      "Test Set\n",
      "              precision    recall  f1-score   support\n",
      "\n",
      "           0       0.86      0.86      0.86        37\n",
      "           1       0.76      0.76      0.76        21\n",
      "\n",
      "    accuracy                           0.83        58\n",
      "   macro avg       0.81      0.81      0.81        58\n",
      "weighted avg       0.83      0.83      0.83        58\n",
      "\n"
     ]
    }
   ],
   "source": [
    "# AdaBoost Report\n",
    "print('AdaBoost Report \\n Train Set')\n",
    "print(classification_report(y_train, y_train_pred_AB))\n",
    "print('Test Set')\n",
    "print(classification_report(y_test, y_test_pred_AB))"
   ]
  },
  {
   "cell_type": "code",
   "execution_count": 183,
   "metadata": {},
   "outputs": [
    {
     "name": "stdout",
     "output_type": "stream",
     "text": [
      "Random Forest Tunned Model AUC - Train : 1.0\n",
      "Random Forest Tunned Model AUC - Test : 0.8893178893178892\n",
      "Gradient Boost Base Model AUC - Train : 0.9850232398003098\n",
      "Gradient Boost Base Model AUC - Test : 0.879021879021879\n"
     ]
    }
   ],
   "source": [
    "# Check roc_auc score\n",
    "y_RF_train_proba = RF_Classifier.predict_proba(X_train)[:, 1]\n",
    "y_RF_test_proba = RF_Classifier.predict_proba(X_test)[:, 1]\n",
    "y_AB_train_proba = AB_Classifier.predict_proba(X_train)[:, 1]\n",
    "y_AB_test_proba = AB_Classifier.predict_proba(X_test)[:, 1]\n",
    "\n",
    "auc_RF_train = roc_auc_score(y_train, y_RF_train_proba)\n",
    "auc_AB_train = roc_auc_score(y_train, y_AB_train_proba)\n",
    "auc_RF_test = roc_auc_score(y_test, y_RF_test_proba)\n",
    "auc_AB_test = roc_auc_score(y_test, y_AB_test_proba)\n",
    "\n",
    "print('Random Forest Tunned Model AUC - Train :', auc_RF_train)\n",
    "print('Random Forest Tunned Model AUC - Test :', auc_RF_test)\n",
    "print('Gradient Boost Base Model AUC - Train :', auc_AB_train)\n",
    "print('Gradient Boost Base Model AUC - Test :', auc_AB_test)"
   ]
  },
  {
   "cell_type": "code",
   "execution_count": 184,
   "metadata": {},
   "outputs": [
    {
     "name": "stdout",
     "output_type": "stream",
     "text": [
      "Random Forest Train set Confusion Matrix\n"
     ]
    },
    {
     "data": {
      "image/png": "[encoded data removed]",
      "text/plain": [
       "<Figure size 432x288 with 2 Axes>"
      ]
     },
     "metadata": {
      "needs_background": "light"
     },
     "output_type": "display_data"
    }
   ],
   "source": [
    "# Random Forest Confusion Matrix Train Set\n",
    "print('Random Forest Train set Confusion Matrix')\n",
    "disp = plot_confusion_matrix(RF_Classifier, X_train, y_train, cmap='Blues')"
   ]
  },
  {
   "cell_type": "code",
   "execution_count": 185,
   "metadata": {},
   "outputs": [
    {
     "name": "stdout",
     "output_type": "stream",
     "text": [
      "Random Forest Test set Confusion Matrix\n"
     ]
    },
    {
     "data": {
      "image/png": "[encoded data removed]",
      "text/plain": [
       "<Figure size 432x288 with 2 Axes>"
      ]
     },
     "metadata": {
      "needs_background": "light"
     },
     "output_type": "display_data"
    }
   ],
   "source": [
    "# Random Forest Confusion Matrix Test Set\n",
    "print('Random Forest Test set Confusion Matrix')\n",
    "disp = plot_confusion_matrix(RF_Classifier, X_test, y_test, cmap='Blues')"
   ]
  },
  {
   "cell_type": "code",
   "execution_count": 186,
   "metadata": {},
   "outputs": [
    {
     "name": "stdout",
     "output_type": "stream",
     "text": [
      "AdaBoost Train set Confusion Matrix\n"
     ]
    },
    {
     "data": {
      "image/png": "[encoded data removed]",
      "text/plain": [
       "<Figure size 432x288 with 2 Axes>"
      ]
     },
     "metadata": {
      "needs_background": "light"
     },
     "output_type": "display_data"
    }
   ],
   "source": [
    "# AdaBoost Confusion Matrix Train Set\n",
    "print('AdaBoost Train set Confusion Matrix')\n",
    "disp = plot_confusion_matrix(AB_Classifier, X_train, y_train, cmap='Blues')"
   ]
  },
  {
   "cell_type": "code",
   "execution_count": 187,
   "metadata": {},
   "outputs": [
    {
     "name": "stdout",
     "output_type": "stream",
     "text": [
      "AdaBoost Test set Confusion Matrix\n"
     ]
    },
    {
     "data": {
      "image/png": "[encoded data removed]",
      "text/plain": [
       "<Figure size 432x288 with 2 Axes>"
      ]
     },
     "metadata": {
      "needs_background": "light"
     },
     "output_type": "display_data"
    }
   ],
   "source": [
    "# AdaBoost Confusion Matrix Test Set\n",
    "print('AdaBoost Test set Confusion Matrix')\n",
    "disp = plot_confusion_matrix(AB_Classifier, X_test, y_test, cmap='Blues')"
   ]
  },
  {
   "cell_type": "markdown",
   "metadata": {},
   "source": [
    "Statement :<br>\n",
    "1. From classification report, we can see that Random Forest Precision and Accuracy is magnificent in test set yet another story in test set. It is still a high score but since the gap between train and test set is enourmost ( over than 10% ), therefore I conclude that Random Forest is actually suffering from overfitting. The same case happens in AdaBoost train and test set.\n",
    "2. Same things happen in roc auc score, where both of models is actually able to differentiate the target greatly. But since the gap between train and test scores is so big ( over than 10% ), both of models is actually suffering from overfiting.\n",
    "3. Both of model's confusion matrix prove the model's ability to predict very well."
   ]
  },
  {
   "cell_type": "markdown",
   "metadata": {},
   "source": [
    "### 8. Model Inference"
   ]
  },
  {
   "cell_type": "code",
   "execution_count": 188,
   "metadata": {},
   "outputs": [
    {
     "data": {
      "text/html": [
       "<div>\n",
       "<style scoped>\n",
       "    .dataframe tbody tr th:only-of-type {\n",
       "        vertical-align: middle;\n",
       "    }\n",
       "\n",
       "    .dataframe tbody tr th {\n",
       "        vertical-align: top;\n",
       "    }\n",
       "\n",
       "    .dataframe thead th {\n",
       "        text-align: right;\n",
       "    }\n",
       "</style>\n",
       "<table border=\"1\" class=\"dataframe\">\n",
       "  <thead>\n",
       "    <tr style=\"text-align: right;\">\n",
       "      <th></th>\n",
       "      <th>age</th>\n",
       "      <th>time</th>\n",
       "      <th>serum_creatinine</th>\n",
       "      <th>anaemia</th>\n",
       "      <th>high_blood_pressure</th>\n",
       "      <th>DEATH_EVENT Random Forest</th>\n",
       "      <th>DEATH_EVENT AdaBoost</th>\n",
       "    </tr>\n",
       "  </thead>\n",
       "  <tbody>\n",
       "    <tr>\n",
       "      <th>0</th>\n",
       "      <td>0.730503</td>\n",
       "      <td>-1.007807</td>\n",
       "      <td>0.916667</td>\n",
       "      <td>1.0</td>\n",
       "      <td>0.0</td>\n",
       "      <td>1</td>\n",
       "      <td>1</td>\n",
       "    </tr>\n",
       "    <tr>\n",
       "      <th>1</th>\n",
       "      <td>-0.703123</td>\n",
       "      <td>-0.336420</td>\n",
       "      <td>0.083333</td>\n",
       "      <td>1.0</td>\n",
       "      <td>1.0</td>\n",
       "      <td>0</td>\n",
       "      <td>0</td>\n",
       "    </tr>\n",
       "    <tr>\n",
       "      <th>2</th>\n",
       "      <td>-1.377770</td>\n",
       "      <td>1.445337</td>\n",
       "      <td>0.166667</td>\n",
       "      <td>0.0</td>\n",
       "      <td>0.0</td>\n",
       "      <td>0</td>\n",
       "      <td>0</td>\n",
       "    </tr>\n",
       "    <tr>\n",
       "      <th>3</th>\n",
       "      <td>-0.534461</td>\n",
       "      <td>1.057999</td>\n",
       "      <td>0.250000</td>\n",
       "      <td>0.0</td>\n",
       "      <td>0.0</td>\n",
       "      <td>0</td>\n",
       "      <td>0</td>\n",
       "    </tr>\n",
       "    <tr>\n",
       "      <th>4</th>\n",
       "      <td>1.152158</td>\n",
       "      <td>-0.749581</td>\n",
       "      <td>0.041667</td>\n",
       "      <td>1.0</td>\n",
       "      <td>1.0</td>\n",
       "      <td>0</td>\n",
       "      <td>1</td>\n",
       "    </tr>\n",
       "    <tr>\n",
       "      <th>5</th>\n",
       "      <td>-1.799425</td>\n",
       "      <td>0.993442</td>\n",
       "      <td>0.166667</td>\n",
       "      <td>1.0</td>\n",
       "      <td>0.0</td>\n",
       "      <td>0</td>\n",
       "      <td>0</td>\n",
       "    </tr>\n",
       "    <tr>\n",
       "      <th>6</th>\n",
       "      <td>-0.871785</td>\n",
       "      <td>-0.685025</td>\n",
       "      <td>0.083333</td>\n",
       "      <td>0.0</td>\n",
       "      <td>0.0</td>\n",
       "      <td>0</td>\n",
       "      <td>0</td>\n",
       "    </tr>\n",
       "    <tr>\n",
       "      <th>7</th>\n",
       "      <td>-1.293439</td>\n",
       "      <td>-0.323509</td>\n",
       "      <td>0.283333</td>\n",
       "      <td>0.0</td>\n",
       "      <td>1.0</td>\n",
       "      <td>0</td>\n",
       "      <td>0</td>\n",
       "    </tr>\n",
       "    <tr>\n",
       "      <th>8</th>\n",
       "      <td>-0.956116</td>\n",
       "      <td>1.471160</td>\n",
       "      <td>0.083333</td>\n",
       "      <td>1.0</td>\n",
       "      <td>0.0</td>\n",
       "      <td>0</td>\n",
       "      <td>0</td>\n",
       "    </tr>\n",
       "    <tr>\n",
       "      <th>9</th>\n",
       "      <td>-1.799425</td>\n",
       "      <td>1.445337</td>\n",
       "      <td>0.208333</td>\n",
       "      <td>0.0</td>\n",
       "      <td>0.0</td>\n",
       "      <td>0</td>\n",
       "      <td>0</td>\n",
       "    </tr>\n",
       "  </tbody>\n",
       "</table>\n",
       "</div>"
      ],
      "text/plain": [
       "        age      time  serum_creatinine  anaemia  high_blood_pressure  \\\n",
       "0  0.730503 -1.007807          0.916667      1.0                  0.0   \n",
       "1 -0.703123 -0.336420          0.083333      1.0                  1.0   \n",
       "2 -1.377770  1.445337          0.166667      0.0                  0.0   \n",
       "3 -0.534461  1.057999          0.250000      0.0                  0.0   \n",
       "4  1.152158 -0.749581          0.041667      1.0                  1.0   \n",
       "5 -1.799425  0.993442          0.166667      1.0                  0.0   \n",
       "6 -0.871785 -0.685025          0.083333      0.0                  0.0   \n",
       "7 -1.293439 -0.323509          0.283333      0.0                  1.0   \n",
       "8 -0.956116  1.471160          0.083333      1.0                  0.0   \n",
       "9 -1.799425  1.445337          0.208333      0.0                  0.0   \n",
       "\n",
       "   DEATH_EVENT Random Forest  DEATH_EVENT AdaBoost  \n",
       "0                          1                     1  \n",
       "1                          0                     0  \n",
       "2                          0                     0  \n",
       "3                          0                     0  \n",
       "4                          0                     1  \n",
       "5                          0                     0  \n",
       "6                          0                     0  \n",
       "7                          0                     0  \n",
       "8                          0                     0  \n",
       "9                          0                     0  "
      ]
     },
     "execution_count": 188,
     "metadata": {},
     "output_type": "execute_result"
    }
   ],
   "source": [
    "# Split Inference Data to different type\n",
    "inf_num_nor = data_inf[num_nor]\n",
    "inf_num_skew = data_inf[num_skew]\n",
    "inf_cat_final = data_inf[cat_final]\n",
    "\n",
    "# Scale the Inference Data\n",
    "inf_num_nor_scaled = nor_scaler.transform(inf_num_nor)\n",
    "inf_num_skew_scaled = skew_scaler.transform(inf_num_skew)\n",
    "\n",
    "# Combine the scaled data\n",
    "inf_final = np.concatenate([inf_num_nor_scaled, inf_num_skew_scaled, inf_cat_final], axis=1)\n",
    "inf_data = pd.DataFrame(inf_final, columns = columns_all)\n",
    "\n",
    "# Predict Inference Model using both models\n",
    "RF_inf_predict = pd.DataFrame(RF_Classifier.predict(inf_data), columns = ['DEATH_EVENT Random Forest'])\n",
    "AB_inf_predict = pd.DataFrame(AB_Classifier.predict(inf_data), columns = ['DEATH_EVENT AdaBoost'])\n",
    "\n",
    "pd.concat([inf_data, RF_inf_predict, AB_inf_predict], axis = 1)"
   ]
  },
  {
   "cell_type": "markdown",
   "metadata": {},
   "source": [
    "## Conclusions, Assumptions, Overall Analysis\n",
    "1. columns that affect DEATH_EVENT significantly are age, time, serum_creatinine, anaemia, and high_blood_pressure. But since few of them were manipulated using capping methods, using a different methods or not manipulating at all may gives a different results.\n",
    "2. Neither Random Forest nor AdaBoost were event a goodfit model, I can't say which one is better since both scores gap for every scoring methods between train and test set are big.\n",
    "3. Both of models is able to predict with high accuracy, but since the difference between train and test set ( even though they show a very high accuracy on both set ) both models can not be called good.\n",
    "4. Perform hyperparameter tuning for each models may help improve the model performance and even reduce the gap for every scoring methods between train and test set. Using a larger dataset will improve the model performance since the dataset is relatively small."
   ]
  }
 ],
 "metadata": {
  "kernelspec": {
   "display_name": "Python 3.9.12 ('base')",
   "language": "python",
   "name": "python3"
  },
  "language_info": {
   "codemirror_mode": {
    "name": "ipython",
    "version": 3
   },
   "file_extension": ".py",
   "mimetype": "text/x-python",
   "name": "python",
   "nbconvert_exporter": "python",
   "pygments_lexer": "ipython3",
   "version": "3.9.13 (main, Aug 25 2022, 23:51:50) [MSC v.1916 64 bit (AMD64)]"
  },
  "orig_nbformat": 4,
  "vscode": {
   "interpreter": {
    "hash": "db73a3f725d25edc1898cf086846c00279f921a2aff9b8dd881a6ae47174c5ed"
   }
  }
 },
 "nbformat": 4,
 "nbformat_minor": 2
}
